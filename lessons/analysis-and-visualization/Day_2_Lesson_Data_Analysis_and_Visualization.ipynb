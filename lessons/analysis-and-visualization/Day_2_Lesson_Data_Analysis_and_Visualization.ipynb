{
  "cells": [
    {
      "cell_type": "markdown",
      "metadata": {
        "id": "SET1iBCtkbDQ"
      },
      "source": [
        "# Data Analysis and Visualization\n",
        "In Data Science, key steps include:\n",
        "\n",
        "*   Loading & Manipulating Data\n",
        "*   Summary Analyses\n",
        "*   Visualization\n",
        "\n",
        "We will examine the use of important packages and libraries such as **Pandas** and **MatPlotLib** for managing and visualizing data. \n",
        "\n",
        "<img src=\"https://media.tacdn.com/media/attractions-splice-spp-674x446/07/26/3c/87.jpg\" width=\"50%\"/>\n",
        "\n",
        "Another skill that's important to develop as a Data Scientist is the ability to think of data as a **matrices** and **vectors**. These are concepts from an area of mathematics called **Linear Algebra**.\n",
        "\n",
        "<img src=\"https://media.wired.com/photos/5ca648a330f00e47fd82ae77/16:9/w_1391,h_782,c_limit/Culture_Matrix_Code_corridor.jpg\" width=\"100%\"/>\n",
        "\n",
        "\n",
        "\n",
        "\n"
      ]
    },
    {
      "cell_type": "markdown",
      "metadata": {
        "id": "-tJVZA2JYyw0"
      },
      "source": [
        "# Pandas\n",
        "**Pandas** is a powerful Data Science package.\n",
        "\n",
        "We first load it via the import feature, and give it the alias 'pd' (so we don't have to type pandas everytime).\n",
        "\n"
      ]
    },
    {
      "cell_type": "code",
      "execution_count": null,
      "metadata": {
        "id": "NRBqa-CWghrH"
      },
      "outputs": [],
      "source": [
        "import pandas as pd"
      ]
    },
    {
      "cell_type": "markdown",
      "metadata": {
        "id": "gfnKBPcjww-P"
      },
      "source": [
        "## Load Data into DataFrame\n",
        "The main data structure is pandas is the **dataframe**. It holds data in memory in a spreadsheet like format. We often alias them with \"df\" but you can name them whatever you want, e.g., \"data\" in this case.\n",
        "\n",
        "A dataframe is an object with associated functions, such as **head** and **tail** for viewing the data. Head shows the first few entries, and tail shows the last few entries. You can specify how many by adding a function parameter."
      ]
    },
    {
      "cell_type": "markdown",
      "metadata": {
        "id": "Dw65LXDwZQmq"
      },
      "source": [
        "## Comma Separated Values\n",
        "Now, we can load any **CSV** (comma-separated-values) dataset we want. A CSV is a plain file with some data in rows with fields separated by commas. This format makes CSV files not very different from **spreadsheets** (Excel or Google Sheets).\n"
      ]
    },
    {
      "cell_type": "code",
      "execution_count": null,
      "metadata": {
        "colab": {
          "base_uri": "https://localhost:8080/",
          "height": 854
        },
        "id": "p4LnEaPkmkXg",
        "outputId": "258e2b50-1871-4fb1-c782-1f8e6d74d099"
      },
      "outputs": [
        {
          "data": {
            "text/html": [
              "<div>\n",
              "<style scoped>\n",
              "    .dataframe tbody tr th:only-of-type {\n",
              "        vertical-align: middle;\n",
              "    }\n",
              "\n",
              "    .dataframe tbody tr th {\n",
              "        vertical-align: top;\n",
              "    }\n",
              "\n",
              "    .dataframe thead th {\n",
              "        text-align: right;\n",
              "    }\n",
              "</style>\n",
              "<table border=\"1\" class=\"dataframe\">\n",
              "  <thead>\n",
              "    <tr style=\"text-align: right;\">\n",
              "      <th></th>\n",
              "      <th>Secret Code</th>\n",
              "      <th>Waiver Complete</th>\n",
              "      <th>Waiver Uploaded</th>\n",
              "      <th>Waiver Explanation</th>\n",
              "      <th>Age</th>\n",
              "      <th>Gender</th>\n",
              "      <th>Race/Ethnicity</th>\n",
              "      <th>In what city is your school located?</th>\n",
              "      <th>Grade</th>\n",
              "      <th>When you think of homelessness, what comes to mind?</th>\n",
              "      <th>Comments</th>\n",
              "    </tr>\n",
              "  </thead>\n",
              "  <tbody>\n",
              "    <tr>\n",
              "      <th>0</th>\n",
              "      <td>NaN</td>\n",
              "      <td>Yes</td>\n",
              "      <td>Yes</td>\n",
              "      <td>NaN</td>\n",
              "      <td>15</td>\n",
              "      <td>Male</td>\n",
              "      <td>Hispanic or Latinx</td>\n",
              "      <td>Dixon</td>\n",
              "      <td>10th grade</td>\n",
              "      <td>NaN</td>\n",
              "      <td>NaN</td>\n",
              "    </tr>\n",
              "    <tr>\n",
              "      <th>1</th>\n",
              "      <td>too many forms</td>\n",
              "      <td>No</td>\n",
              "      <td>No</td>\n",
              "      <td>I forgot to fill it out, I will do it today</td>\n",
              "      <td>16</td>\n",
              "      <td>female</td>\n",
              "      <td>Asian</td>\n",
              "      <td>san diego</td>\n",
              "      <td>12th grade</td>\n",
              "      <td>NaN</td>\n",
              "      <td>NaN</td>\n",
              "    </tr>\n",
              "    <tr>\n",
              "      <th>2</th>\n",
              "      <td>too many forms</td>\n",
              "      <td>Yes</td>\n",
              "      <td>Yes</td>\n",
              "      <td>NaN</td>\n",
              "      <td>12</td>\n",
              "      <td>Male</td>\n",
              "      <td>Asian</td>\n",
              "      <td>Riverside</td>\n",
              "      <td>7th grade</td>\n",
              "      <td>I think of people with hats asking for any amo...</td>\n",
              "      <td>NaN</td>\n",
              "    </tr>\n",
              "    <tr>\n",
              "      <th>3</th>\n",
              "      <td>too many forms</td>\n",
              "      <td>Yes</td>\n",
              "      <td>Yes</td>\n",
              "      <td>NaN</td>\n",
              "      <td>13</td>\n",
              "      <td>Male</td>\n",
              "      <td>Asian</td>\n",
              "      <td>Riverside</td>\n",
              "      <td>8th grade</td>\n",
              "      <td>los angeles</td>\n",
              "      <td>NaN</td>\n",
              "    </tr>\n",
              "    <tr>\n",
              "      <th>4</th>\n",
              "      <td>too many forms</td>\n",
              "      <td>No</td>\n",
              "      <td>No</td>\n",
              "      <td>I don't know where to find the parental waiver...</td>\n",
              "      <td>16</td>\n",
              "      <td>Female</td>\n",
              "      <td>Asian</td>\n",
              "      <td>Fremont, CA</td>\n",
              "      <td>11th grade</td>\n",
              "      <td>NaN</td>\n",
              "      <td>NaN</td>\n",
              "    </tr>\n",
              "    <tr>\n",
              "      <th>5</th>\n",
              "      <td>too many forms</td>\n",
              "      <td>No</td>\n",
              "      <td>Yes</td>\n",
              "      <td>NaN</td>\n",
              "      <td>17</td>\n",
              "      <td>female</td>\n",
              "      <td>Asian</td>\n",
              "      <td>Temple City</td>\n",
              "      <td>12th grade</td>\n",
              "      <td>NaN</td>\n",
              "      <td>NaN</td>\n",
              "    </tr>\n",
              "    <tr>\n",
              "      <th>6</th>\n",
              "      <td>too many forms</td>\n",
              "      <td>No</td>\n",
              "      <td>No</td>\n",
              "      <td>I forgot</td>\n",
              "      <td>17</td>\n",
              "      <td>Male</td>\n",
              "      <td>Asian, A race or ethnicity not listed here</td>\n",
              "      <td>Riverside</td>\n",
              "      <td>12th grade</td>\n",
              "      <td>NaN</td>\n",
              "      <td>NaN</td>\n",
              "    </tr>\n",
              "    <tr>\n",
              "      <th>7</th>\n",
              "      <td>too many forms</td>\n",
              "      <td>Yes</td>\n",
              "      <td>Yes</td>\n",
              "      <td>NaN</td>\n",
              "      <td>16</td>\n",
              "      <td>Male</td>\n",
              "      <td>Asian</td>\n",
              "      <td>Santa Maria</td>\n",
              "      <td>12th grade</td>\n",
              "      <td>Not having shelter</td>\n",
              "      <td>NaN</td>\n",
              "    </tr>\n",
              "    <tr>\n",
              "      <th>8</th>\n",
              "      <td>too many forms</td>\n",
              "      <td>Yes</td>\n",
              "      <td>Yes</td>\n",
              "      <td>NaN</td>\n",
              "      <td>13</td>\n",
              "      <td>Male</td>\n",
              "      <td>White or Caucasian</td>\n",
              "      <td>Moreno Valley</td>\n",
              "      <td>8th grade</td>\n",
              "      <td>Without a home, whether by choice or not.</td>\n",
              "      <td>NaN</td>\n",
              "    </tr>\n",
              "    <tr>\n",
              "      <th>9</th>\n",
              "      <td>too many forms</td>\n",
              "      <td>No</td>\n",
              "      <td>No</td>\n",
              "      <td>I don't have time right now. I will do it afte...</td>\n",
              "      <td>17</td>\n",
              "      <td>Female</td>\n",
              "      <td>Asian</td>\n",
              "      <td>San Jose</td>\n",
              "      <td>12th grade</td>\n",
              "      <td>people living on the street, no food or suppor...</td>\n",
              "      <td>NaN</td>\n",
              "    </tr>\n",
              "    <tr>\n",
              "      <th>10</th>\n",
              "      <td>too many forms</td>\n",
              "      <td>Yes</td>\n",
              "      <td>Yes</td>\n",
              "      <td>NaN</td>\n",
              "      <td>13</td>\n",
              "      <td>Male</td>\n",
              "      <td>Asian</td>\n",
              "      <td>Gilroy</td>\n",
              "      <td>9th grade</td>\n",
              "      <td>Growing up in a community where there is lots ...</td>\n",
              "      <td>NaN</td>\n",
              "    </tr>\n",
              "    <tr>\n",
              "      <th>11</th>\n",
              "      <td>too many forms</td>\n",
              "      <td>No</td>\n",
              "      <td>No</td>\n",
              "      <td>NaN</td>\n",
              "      <td>15</td>\n",
              "      <td>Female</td>\n",
              "      <td>Asian</td>\n",
              "      <td>Tracy</td>\n",
              "      <td>10th grade</td>\n",
              "      <td>Home and shelter</td>\n",
              "      <td>NaN</td>\n",
              "    </tr>\n",
              "    <tr>\n",
              "      <th>12</th>\n",
              "      <td>too many forms</td>\n",
              "      <td>No</td>\n",
              "      <td>No</td>\n",
              "      <td>NaN</td>\n",
              "      <td>13</td>\n",
              "      <td>Male</td>\n",
              "      <td>Hispanic or Latinx</td>\n",
              "      <td>Oxnard CA</td>\n",
              "      <td>9th grade</td>\n",
              "      <td>Fixing the homelessness issue</td>\n",
              "      <td>NaN</td>\n",
              "    </tr>\n",
              "    <tr>\n",
              "      <th>13</th>\n",
              "      <td>too many forms</td>\n",
              "      <td>No</td>\n",
              "      <td>No</td>\n",
              "      <td>says \"\"You can't respond to DSA Parental Waive...</td>\n",
              "      <td>12</td>\n",
              "      <td>male</td>\n",
              "      <td>Asian</td>\n",
              "      <td>Moreno Valley</td>\n",
              "      <td>7th grade</td>\n",
              "      <td>People that can't make enough money or don't h...</td>\n",
              "      <td>NaN</td>\n",
              "    </tr>\n",
              "    <tr>\n",
              "      <th>14</th>\n",
              "      <td>omg to many forms</td>\n",
              "      <td>Yes</td>\n",
              "      <td>Yes</td>\n",
              "      <td>NaN</td>\n",
              "      <td>11</td>\n",
              "      <td>male</td>\n",
              "      <td>Asian</td>\n",
              "      <td>corona</td>\n",
              "      <td>6th grade</td>\n",
              "      <td>people sleeping on the streets</td>\n",
              "      <td>NaN</td>\n",
              "    </tr>\n",
              "  </tbody>\n",
              "</table>\n",
              "</div>"
            ],
            "text/plain": [
              "          Secret Code  ... Comments\n",
              "0                 NaN  ...      NaN\n",
              "1      too many forms  ...      NaN\n",
              "2      too many forms  ...      NaN\n",
              "3      too many forms  ...      NaN\n",
              "4      too many forms  ...      NaN\n",
              "5      too many forms  ...      NaN\n",
              "6      too many forms  ...      NaN\n",
              "7      too many forms  ...      NaN\n",
              "8      too many forms  ...      NaN\n",
              "9      too many forms  ...      NaN\n",
              "10     too many forms  ...      NaN\n",
              "11     too many forms  ...      NaN\n",
              "12     too many forms  ...      NaN\n",
              "13     too many forms  ...      NaN\n",
              "14  omg to many forms  ...      NaN\n",
              "\n",
              "[15 rows x 11 columns]"
            ]
          },
          "execution_count": 47,
          "metadata": {},
          "output_type": "execute_result"
        }
      ],
      "source": [
        "df = pd.read_csv('/content/sample_data/Anonymized DSA Attendance 2021-10-23 (1).csv')\n",
        "df.head(15)"
      ]
    },
    {
      "cell_type": "code",
      "execution_count": null,
      "metadata": {
        "colab": {
          "base_uri": "https://localhost:8080/",
          "height": 425
        },
        "id": "zYSVIMQoUFNV",
        "outputId": "d669dfd2-14a7-413f-99b7-b2f68d84ad70"
      },
      "outputs": [
        {
          "data": {
            "text/html": [
              "<div>\n",
              "<style scoped>\n",
              "    .dataframe tbody tr th:only-of-type {\n",
              "        vertical-align: middle;\n",
              "    }\n",
              "\n",
              "    .dataframe tbody tr th {\n",
              "        vertical-align: top;\n",
              "    }\n",
              "\n",
              "    .dataframe thead th {\n",
              "        text-align: right;\n",
              "    }\n",
              "</style>\n",
              "<table border=\"1\" class=\"dataframe\">\n",
              "  <thead>\n",
              "    <tr style=\"text-align: right;\">\n",
              "      <th></th>\n",
              "      <th>What school are you from?</th>\n",
              "      <th>What grade will you be this Fall?</th>\n",
              "      <th>Please remember to download the waiver, have your parent sign it tonight, and have a digital copy ready for upload on Wednesday.</th>\n",
              "      <th>With what gender do you identify?</th>\n",
              "      <th>With what race(s) and ethnicity do you identify?</th>\n",
              "      <th>Secret Code</th>\n",
              "      <th>Comments</th>\n",
              "    </tr>\n",
              "  </thead>\n",
              "  <tbody>\n",
              "    <tr>\n",
              "      <th>30</th>\n",
              "      <td>Cope Middle School</td>\n",
              "      <td>9</td>\n",
              "      <td>I promise I will remember.</td>\n",
              "      <td>Male</td>\n",
              "      <td>Asian</td>\n",
              "      <td>TmD%^tz%fwj%fuuwtfhmnsl%rjD%N%hfsy%gjfy%~tz%zu...</td>\n",
              "      <td>Class was very fun. Thank you Professor!</td>\n",
              "    </tr>\n",
              "    <tr>\n",
              "      <th>31</th>\n",
              "      <td>Summit High School</td>\n",
              "      <td>12</td>\n",
              "      <td>I promise I will remember.</td>\n",
              "      <td>Female</td>\n",
              "      <td>Hispanic</td>\n",
              "      <td>GOAT</td>\n",
              "      <td>NaN</td>\n",
              "    </tr>\n",
              "    <tr>\n",
              "      <th>32</th>\n",
              "      <td>Cucamonga middle school</td>\n",
              "      <td>8</td>\n",
              "      <td>I promise I will remember.</td>\n",
              "      <td>female</td>\n",
              "      <td>Black</td>\n",
              "      <td>GOAT</td>\n",
              "      <td>NaN</td>\n",
              "    </tr>\n",
              "    <tr>\n",
              "      <th>33</th>\n",
              "      <td>Benjamin Franklin Elementary School</td>\n",
              "      <td>7</td>\n",
              "      <td>I promise I will remember.</td>\n",
              "      <td>Male</td>\n",
              "      <td>Asian</td>\n",
              "      <td>GOAT</td>\n",
              "      <td>NaN</td>\n",
              "    </tr>\n",
              "    <tr>\n",
              "      <th>34</th>\n",
              "      <td>San Pedro High School</td>\n",
              "      <td>11</td>\n",
              "      <td>I promise I will remember.</td>\n",
              "      <td>Female</td>\n",
              "      <td>Hispanic/Latino</td>\n",
              "      <td>GOAT</td>\n",
              "      <td>NaN</td>\n",
              "    </tr>\n",
              "  </tbody>\n",
              "</table>\n",
              "</div>"
            ],
            "text/plain": [
              "              What school are you from?  ...                                  Comments\n",
              "30                   Cope Middle School  ...  Class was very fun. Thank you Professor!\n",
              "31                   Summit High School  ...                                       NaN\n",
              "32              Cucamonga middle school  ...                                       NaN\n",
              "33  Benjamin Franklin Elementary School  ...                                       NaN\n",
              "34                San Pedro High School  ...                                       NaN\n",
              "\n",
              "[5 rows x 7 columns]"
            ]
          },
          "execution_count": 48,
          "metadata": {},
          "output_type": "execute_result"
        }
      ],
      "source": [
        "df = pd.read_csv('/content/sample_data/attendance1anon (4).csv')\n",
        "df.tail(5)"
      ]
    },
    {
      "cell_type": "markdown",
      "metadata": {
        "id": "wOQf75nHfD3g"
      },
      "source": [
        "## Matrices, Vectors and Data Frame Series\n",
        "As we can see, a dataframe adds value to data processing by **parsing** the text file and turning it into more of a spreadsheet like format, with headers and fields separated appropriately.\n",
        "\n",
        "It also allows us to directly access rows and columns easily.\n",
        "\n",
        "Viewed as a **matrix**, a dataframe's columns are **vectors** and can be referenced individually.\n"
      ]
    },
    {
      "cell_type": "code",
      "execution_count": null,
      "metadata": {
        "colab": {
          "base_uri": "https://localhost:8080/"
        },
        "id": "bIe8LmMvfSUC",
        "outputId": "ef1efa6e-5094-4df1-c4bd-f69f459e6074"
      },
      "outputs": [
        {
          "data": {
            "text/plain": [
              "0      Male\n",
              "1      Male\n",
              "2      Male\n",
              "3      Male\n",
              "4      male\n",
              "5      Male\n",
              "6      Male\n",
              "7      Male\n",
              "8    female\n",
              "9    female\n",
              "Name: With what gender do you identify?, dtype: object"
            ]
          },
          "execution_count": 49,
          "metadata": {},
          "output_type": "execute_result"
        }
      ],
      "source": [
        "df['With what gender do you identify?'].head(10)"
      ]
    },
    {
      "cell_type": "markdown",
      "metadata": {
        "id": "TgRUz_2-m1_R"
      },
      "source": [
        "## First rule of Data Science: look at your data!\n",
        "Finally, look at some of the data columns."
      ]
    },
    {
      "cell_type": "code",
      "execution_count": null,
      "metadata": {
        "colab": {
          "base_uri": "https://localhost:8080/"
        },
        "id": "pLb8fbNVmwK0",
        "outputId": "f8659a47-a672-4ee1-c5ef-089eb9aa4ebb"
      },
      "outputs": [
        {
          "data": {
            "text/plain": [
              "0                          Asian\n",
              "1                          White\n",
              "2                Asian (Chinese)\n",
              "3                          White\n",
              "4                Asian - Indian \n",
              "5                          Asian\n",
              "6                         Indian\n",
              "7                 Asian (Indian)\n",
              "8     Black and African American\n",
              "9               Mexican/Hispanic\n",
              "10               White, Hispanic\n",
              "11    White and Native American \n",
              "12               Middle Eastern \n",
              "13                        Indian\n",
              "14                         asian\n",
              "15        Hispanic and Caucasian\n",
              "16                         Asian\n",
              "17                         Asian\n",
              "18                      Hispanic\n",
              "19               Hispanic Latina\n",
              "20                         asian\n",
              "21              African american\n",
              "22                         Asian\n",
              "23      South Asian- Bangladeshi\n",
              "24                      Hispanic\n",
              "Name: With what race(s) and ethnicity do you identify?, dtype: object"
            ]
          },
          "execution_count": 50,
          "metadata": {},
          "output_type": "execute_result"
        }
      ],
      "source": [
        "df['With what race(s) and ethnicity do you identify?'].head(25)"
      ]
    },
    {
      "cell_type": "markdown",
      "metadata": {
        "id": "pvL_hY4Jxh5a"
      },
      "source": [
        "## Plots!\n",
        "Let's visualize some of the data."
      ]
    },
    {
      "cell_type": "code",
      "execution_count": null,
      "metadata": {
        "colab": {
          "base_uri": "https://localhost:8080/",
          "height": 358
        },
        "id": "Y9a3uS8SniIz",
        "outputId": "8cb98d8f-a731-49f5-dfe8-b46cceee8b64"
      },
      "outputs": [
        {
          "data": {
            "text/plain": [
              "<matplotlib.axes._subplots.AxesSubplot at 0x7f2bf964d8d0>"
            ]
          },
          "execution_count": 51,
          "metadata": {},
          "output_type": "execute_result"
        },
        {
          "data": {
            "image/png": "[encoded data removed]",
            "text/plain": [
              "<Figure size 432x288 with 1 Axes>"
            ]
          },
          "metadata": {
            "needs_background": "light"
          },
          "output_type": "display_data"
        }
      ],
      "source": [
        "df['With what gender do you identify?'].value_counts().plot(kind=\"bar\")"
      ]
    },
    {
      "cell_type": "markdown",
      "metadata": {
        "id": "tXbzQXG4xosd"
      },
      "source": [
        "# Data Cleaning\n",
        "Visualizing the text-input reveals some messy data issues. We will have to spend some elbow grease to clean that up.\n",
        "\n",
        "One of the most powerful tools for dealing with text data is **regular expressions**, which we will apply to help clean that data."
      ]
    },
    {
      "cell_type": "code",
      "execution_count": null,
      "metadata": {
        "colab": {
          "base_uri": "https://localhost:8080/"
        },
        "id": "3GfgL1ryig9p",
        "outputId": "8b9b6b13-8f3c-40da-c848-b933c58e52a6"
      },
      "outputs": [
        {
          "data": {
            "text/plain": [
              "0      male\n",
              "1      male\n",
              "2      male\n",
              "3      male\n",
              "4      male\n",
              "5      male\n",
              "6      male\n",
              "7      male\n",
              "8    female\n",
              "9    female\n",
              "Name: With what gender do you identify?, dtype: object"
            ]
          },
          "execution_count": 52,
          "metadata": {},
          "output_type": "execute_result"
        }
      ],
      "source": [
        "df['With what gender do you identify?'].apply(lambda x: x.lower()).head(10)"
      ]
    },
    {
      "cell_type": "code",
      "execution_count": null,
      "metadata": {
        "colab": {
          "base_uri": "https://localhost:8080/",
          "height": 358
        },
        "id": "Jxl5yTDoi6hK",
        "outputId": "72bca27c-f087-4676-99aa-2ad797c3975d"
      },
      "outputs": [
        {
          "data": {
            "text/plain": [
              "<matplotlib.axes._subplots.AxesSubplot at 0x7f2bf95cc4d0>"
            ]
          },
          "execution_count": 53,
          "metadata": {},
          "output_type": "execute_result"
        },
        {
          "data": {
            "image/png": "[encoded data removed]",
            "text/plain": [
              "<Figure size 432x288 with 1 Axes>"
            ]
          },
          "metadata": {
            "needs_background": "light"
          },
          "output_type": "display_data"
        }
      ],
      "source": [
        "df['With what gender do you identify?'].apply(lambda x: x.lower()).value_counts().plot(kind=\"bar\")"
      ]
    },
    {
      "cell_type": "code",
      "execution_count": null,
      "metadata": {
        "colab": {
          "base_uri": "https://localhost:8080/",
          "height": 355
        },
        "id": "Spbya2RPpZC1",
        "outputId": "920a3510-e5c1-4e12-f74c-d0b9342567af"
      },
      "outputs": [
        {
          "data": {
            "text/plain": [
              "<matplotlib.axes._subplots.AxesSubplot at 0x7f2bf959de90>"
            ]
          },
          "execution_count": 54,
          "metadata": {},
          "output_type": "execute_result"
        },
        {
          "data": {
            "image/png": "[encoded data removed]",
            "text/plain": [
              "<Figure size 432x288 with 1 Axes>"
            ]
          },
          "metadata": {
            "needs_background": "light"
          },
          "output_type": "display_data"
        }
      ],
      "source": [
        "df['With what gender do you identify?'].apply(lambda x: x.strip().lower()).value_counts().plot(kind=\"bar\")"
      ]
    },
    {
      "cell_type": "code",
      "execution_count": null,
      "metadata": {
        "colab": {
          "base_uri": "https://localhost:8080/",
          "height": 288
        },
        "id": "MFKMDoik36oU",
        "outputId": "ceac72fa-f247-46de-fd04-76d7e0664f80"
      },
      "outputs": [
        {
          "data": {
            "text/plain": [
              "<matplotlib.axes._subplots.AxesSubplot at 0x7f2c014cef10>"
            ]
          },
          "execution_count": 55,
          "metadata": {},
          "output_type": "execute_result"
        },
        {
          "data": {
            "image/png": "[encoded data removed]",
            "text/plain": [
              "<Figure size 432x288 with 1 Axes>"
            ]
          },
          "metadata": {},
          "output_type": "display_data"
        }
      ],
      "source": [
        "df['With what race(s) and ethnicity do you identify?'].apply(lambda x: x.strip().lower()).value_counts().plot(kind=\"pie\")"
      ]
    },
    {
      "cell_type": "markdown",
      "metadata": {
        "id": "PJ2loooRI-Df"
      },
      "source": [
        "# Today's Attendance\n",
        "Let's analyze today's atttendance data."
      ]
    },
    {
      "cell_type": "code",
      "execution_count": null,
      "metadata": {
        "colab": {
          "base_uri": "https://localhost:8080/",
          "height": 780
        },
        "id": "sLG-xtNtI52b",
        "outputId": "42a98dcc-b589-493c-ea92-208bfa37d042"
      },
      "outputs": [
        {
          "data": {
            "text/html": [
              "<div>\n",
              "<style scoped>\n",
              "    .dataframe tbody tr th:only-of-type {\n",
              "        vertical-align: middle;\n",
              "    }\n",
              "\n",
              "    .dataframe tbody tr th {\n",
              "        vertical-align: top;\n",
              "    }\n",
              "\n",
              "    .dataframe thead th {\n",
              "        text-align: right;\n",
              "    }\n",
              "</style>\n",
              "<table border=\"1\" class=\"dataframe\">\n",
              "  <thead>\n",
              "    <tr style=\"text-align: right;\">\n",
              "      <th></th>\n",
              "      <th>Secret Code</th>\n",
              "      <th>Waiver Complete</th>\n",
              "      <th>Waiver Uploaded</th>\n",
              "      <th>Waiver Explanation</th>\n",
              "      <th>Age</th>\n",
              "      <th>Gender</th>\n",
              "      <th>Race/Ethnicity</th>\n",
              "      <th>In what city is your school located?</th>\n",
              "      <th>Grade</th>\n",
              "      <th>When you think of homelessness, what comes to mind?</th>\n",
              "      <th>Comments</th>\n",
              "    </tr>\n",
              "  </thead>\n",
              "  <tbody>\n",
              "    <tr>\n",
              "      <th>0</th>\n",
              "      <td>NaN</td>\n",
              "      <td>Yes</td>\n",
              "      <td>Yes</td>\n",
              "      <td>NaN</td>\n",
              "      <td>15</td>\n",
              "      <td>Male</td>\n",
              "      <td>Hispanic or Latinx</td>\n",
              "      <td>Dixon</td>\n",
              "      <td>10th grade</td>\n",
              "      <td>NaN</td>\n",
              "      <td>NaN</td>\n",
              "    </tr>\n",
              "    <tr>\n",
              "      <th>1</th>\n",
              "      <td>too many forms</td>\n",
              "      <td>No</td>\n",
              "      <td>No</td>\n",
              "      <td>I forgot to fill it out, I will do it today</td>\n",
              "      <td>16</td>\n",
              "      <td>female</td>\n",
              "      <td>Asian</td>\n",
              "      <td>san diego</td>\n",
              "      <td>12th grade</td>\n",
              "      <td>NaN</td>\n",
              "      <td>NaN</td>\n",
              "    </tr>\n",
              "    <tr>\n",
              "      <th>2</th>\n",
              "      <td>too many forms</td>\n",
              "      <td>Yes</td>\n",
              "      <td>Yes</td>\n",
              "      <td>NaN</td>\n",
              "      <td>12</td>\n",
              "      <td>Male</td>\n",
              "      <td>Asian</td>\n",
              "      <td>Riverside</td>\n",
              "      <td>7th grade</td>\n",
              "      <td>I think of people with hats asking for any amo...</td>\n",
              "      <td>NaN</td>\n",
              "    </tr>\n",
              "    <tr>\n",
              "      <th>3</th>\n",
              "      <td>too many forms</td>\n",
              "      <td>Yes</td>\n",
              "      <td>Yes</td>\n",
              "      <td>NaN</td>\n",
              "      <td>13</td>\n",
              "      <td>Male</td>\n",
              "      <td>Asian</td>\n",
              "      <td>Riverside</td>\n",
              "      <td>8th grade</td>\n",
              "      <td>los angeles</td>\n",
              "      <td>NaN</td>\n",
              "    </tr>\n",
              "    <tr>\n",
              "      <th>4</th>\n",
              "      <td>too many forms</td>\n",
              "      <td>No</td>\n",
              "      <td>No</td>\n",
              "      <td>I don't know where to find the parental waiver...</td>\n",
              "      <td>16</td>\n",
              "      <td>Female</td>\n",
              "      <td>Asian</td>\n",
              "      <td>Fremont, CA</td>\n",
              "      <td>11th grade</td>\n",
              "      <td>NaN</td>\n",
              "      <td>NaN</td>\n",
              "    </tr>\n",
              "    <tr>\n",
              "      <th>5</th>\n",
              "      <td>too many forms</td>\n",
              "      <td>No</td>\n",
              "      <td>Yes</td>\n",
              "      <td>NaN</td>\n",
              "      <td>17</td>\n",
              "      <td>female</td>\n",
              "      <td>Asian</td>\n",
              "      <td>Temple City</td>\n",
              "      <td>12th grade</td>\n",
              "      <td>NaN</td>\n",
              "      <td>NaN</td>\n",
              "    </tr>\n",
              "    <tr>\n",
              "      <th>6</th>\n",
              "      <td>too many forms</td>\n",
              "      <td>No</td>\n",
              "      <td>No</td>\n",
              "      <td>I forgot</td>\n",
              "      <td>17</td>\n",
              "      <td>Male</td>\n",
              "      <td>Asian, A race or ethnicity not listed here</td>\n",
              "      <td>Riverside</td>\n",
              "      <td>12th grade</td>\n",
              "      <td>NaN</td>\n",
              "      <td>NaN</td>\n",
              "    </tr>\n",
              "    <tr>\n",
              "      <th>7</th>\n",
              "      <td>too many forms</td>\n",
              "      <td>Yes</td>\n",
              "      <td>Yes</td>\n",
              "      <td>NaN</td>\n",
              "      <td>16</td>\n",
              "      <td>Male</td>\n",
              "      <td>Asian</td>\n",
              "      <td>Santa Maria</td>\n",
              "      <td>12th grade</td>\n",
              "      <td>Not having shelter</td>\n",
              "      <td>NaN</td>\n",
              "    </tr>\n",
              "    <tr>\n",
              "      <th>8</th>\n",
              "      <td>too many forms</td>\n",
              "      <td>Yes</td>\n",
              "      <td>Yes</td>\n",
              "      <td>NaN</td>\n",
              "      <td>13</td>\n",
              "      <td>Male</td>\n",
              "      <td>White or Caucasian</td>\n",
              "      <td>Moreno Valley</td>\n",
              "      <td>8th grade</td>\n",
              "      <td>Without a home, whether by choice or not.</td>\n",
              "      <td>NaN</td>\n",
              "    </tr>\n",
              "    <tr>\n",
              "      <th>9</th>\n",
              "      <td>too many forms</td>\n",
              "      <td>No</td>\n",
              "      <td>No</td>\n",
              "      <td>I don't have time right now. I will do it afte...</td>\n",
              "      <td>17</td>\n",
              "      <td>Female</td>\n",
              "      <td>Asian</td>\n",
              "      <td>San Jose</td>\n",
              "      <td>12th grade</td>\n",
              "      <td>people living on the street, no food or suppor...</td>\n",
              "      <td>NaN</td>\n",
              "    </tr>\n",
              "    <tr>\n",
              "      <th>10</th>\n",
              "      <td>too many forms</td>\n",
              "      <td>Yes</td>\n",
              "      <td>Yes</td>\n",
              "      <td>NaN</td>\n",
              "      <td>13</td>\n",
              "      <td>Male</td>\n",
              "      <td>Asian</td>\n",
              "      <td>Gilroy</td>\n",
              "      <td>9th grade</td>\n",
              "      <td>Growing up in a community where there is lots ...</td>\n",
              "      <td>NaN</td>\n",
              "    </tr>\n",
              "    <tr>\n",
              "      <th>11</th>\n",
              "      <td>too many forms</td>\n",
              "      <td>No</td>\n",
              "      <td>No</td>\n",
              "      <td>NaN</td>\n",
              "      <td>15</td>\n",
              "      <td>Female</td>\n",
              "      <td>Asian</td>\n",
              "      <td>Tracy</td>\n",
              "      <td>10th grade</td>\n",
              "      <td>Home and shelter</td>\n",
              "      <td>NaN</td>\n",
              "    </tr>\n",
              "    <tr>\n",
              "      <th>12</th>\n",
              "      <td>too many forms</td>\n",
              "      <td>No</td>\n",
              "      <td>No</td>\n",
              "      <td>NaN</td>\n",
              "      <td>13</td>\n",
              "      <td>Male</td>\n",
              "      <td>Hispanic or Latinx</td>\n",
              "      <td>Oxnard CA</td>\n",
              "      <td>9th grade</td>\n",
              "      <td>Fixing the homelessness issue</td>\n",
              "      <td>NaN</td>\n",
              "    </tr>\n",
              "    <tr>\n",
              "      <th>13</th>\n",
              "      <td>too many forms</td>\n",
              "      <td>No</td>\n",
              "      <td>No</td>\n",
              "      <td>says \"\"You can't respond to DSA Parental Waive...</td>\n",
              "      <td>12</td>\n",
              "      <td>male</td>\n",
              "      <td>Asian</td>\n",
              "      <td>Moreno Valley</td>\n",
              "      <td>7th grade</td>\n",
              "      <td>People that can't make enough money or don't h...</td>\n",
              "      <td>NaN</td>\n",
              "    </tr>\n",
              "    <tr>\n",
              "      <th>14</th>\n",
              "      <td>omg to many forms</td>\n",
              "      <td>Yes</td>\n",
              "      <td>Yes</td>\n",
              "      <td>NaN</td>\n",
              "      <td>11</td>\n",
              "      <td>male</td>\n",
              "      <td>Asian</td>\n",
              "      <td>corona</td>\n",
              "      <td>6th grade</td>\n",
              "      <td>people sleeping on the streets</td>\n",
              "      <td>NaN</td>\n",
              "    </tr>\n",
              "  </tbody>\n",
              "</table>\n",
              "</div>"
            ],
            "text/plain": [
              "          Secret Code  ... Comments\n",
              "0                 NaN  ...      NaN\n",
              "1      too many forms  ...      NaN\n",
              "2      too many forms  ...      NaN\n",
              "3      too many forms  ...      NaN\n",
              "4      too many forms  ...      NaN\n",
              "5      too many forms  ...      NaN\n",
              "6      too many forms  ...      NaN\n",
              "7      too many forms  ...      NaN\n",
              "8      too many forms  ...      NaN\n",
              "9      too many forms  ...      NaN\n",
              "10     too many forms  ...      NaN\n",
              "11     too many forms  ...      NaN\n",
              "12     too many forms  ...      NaN\n",
              "13     too many forms  ...      NaN\n",
              "14  omg to many forms  ...      NaN\n",
              "\n",
              "[15 rows x 11 columns]"
            ]
          },
          "execution_count": 4,
          "metadata": {},
          "output_type": "execute_result"
        }
      ],
      "source": [
        "df = pd.read_csv('/content/sample_data/Anonymized DSA Attendance 2021-10-23 (1).csv')\n",
        "df.head(15)"
      ]
    },
    {
      "cell_type": "code",
      "execution_count": null,
      "metadata": {
        "colab": {
          "base_uri": "https://localhost:8080/",
          "height": 265
        },
        "id": "UXuSRARMJRGe",
        "outputId": "b1fdb49e-28cf-4033-ad4f-24ce2c7e75ca"
      },
      "outputs": [
        {
          "data": {
            "text/plain": [
              "<matplotlib.axes._subplots.AxesSubplot at 0x7faddcb5fdd0>"
            ]
          },
          "execution_count": 6,
          "metadata": {},
          "output_type": "execute_result"
        },
        {
          "data": {
            "image/png": "[encoded data removed]",
            "text/plain": [
              "<Figure size 432x288 with 1 Axes>"
            ]
          },
          "metadata": {},
          "output_type": "display_data"
        }
      ],
      "source": [
        "df['Age'].value_counts().plot(kind=\"pie\")"
      ]
    },
    {
      "cell_type": "code",
      "execution_count": null,
      "metadata": {
        "colab": {
          "base_uri": "https://localhost:8080/",
          "height": 417
        },
        "id": "WIk0EDjVJMpN",
        "outputId": "4e061443-59cc-4190-e237-71438facefcf"
      },
      "outputs": [
        {
          "data": {
            "text/plain": [
              "<matplotlib.axes._subplots.AxesSubplot at 0x7faddc691250>"
            ]
          },
          "execution_count": 7,
          "metadata": {},
          "output_type": "execute_result"
        },
        {
          "data": {
            "image/png": "[encoded data removed]",
            "text/plain": [
              "<Figure size 432x288 with 1 Axes>"
            ]
          },
          "metadata": {
            "needs_background": "light"
          },
          "output_type": "display_data"
        }
      ],
      "source": [
        "df['Secret Code'].value_counts().plot(kind=\"bar\")"
      ]
    },
    {
      "cell_type": "code",
      "execution_count": null,
      "metadata": {
        "colab": {
          "base_uri": "https://localhost:8080/",
          "height": 1000
        },
        "id": "Z0WxVXs7Jz6k",
        "outputId": "1168c605-4d8f-436d-b0ae-0d5dea956e29"
      },
      "outputs": [
        {
          "data": {
            "text/html": [
              "<div>\n",
              "<style scoped>\n",
              "    .dataframe tbody tr th:only-of-type {\n",
              "        vertical-align: middle;\n",
              "    }\n",
              "\n",
              "    .dataframe tbody tr th {\n",
              "        vertical-align: top;\n",
              "    }\n",
              "\n",
              "    .dataframe thead th {\n",
              "        text-align: right;\n",
              "    }\n",
              "</style>\n",
              "<table border=\"1\" class=\"dataframe\">\n",
              "  <thead>\n",
              "    <tr style=\"text-align: right;\">\n",
              "      <th></th>\n",
              "      <th>Secret Code</th>\n",
              "      <th>Waiver Complete</th>\n",
              "      <th>Waiver Uploaded</th>\n",
              "      <th>Waiver Explanation</th>\n",
              "      <th>Age</th>\n",
              "      <th>Gender</th>\n",
              "      <th>Race/Ethnicity</th>\n",
              "      <th>In what city is your school located?</th>\n",
              "      <th>Grade</th>\n",
              "      <th>When you think of homelessness, what comes to mind?</th>\n",
              "      <th>Comments</th>\n",
              "    </tr>\n",
              "  </thead>\n",
              "  <tbody>\n",
              "    <tr>\n",
              "      <th>0</th>\n",
              "      <td>NaN</td>\n",
              "      <td>Yes</td>\n",
              "      <td>Yes</td>\n",
              "      <td>NaN</td>\n",
              "      <td>15</td>\n",
              "      <td>Male</td>\n",
              "      <td>Hispanic or Latinx</td>\n",
              "      <td>Dixon</td>\n",
              "      <td>10th grade</td>\n",
              "      <td>NaN</td>\n",
              "      <td>NaN</td>\n",
              "    </tr>\n",
              "    <tr>\n",
              "      <th>1</th>\n",
              "      <td>too many forms</td>\n",
              "      <td>No</td>\n",
              "      <td>No</td>\n",
              "      <td>I forgot to fill it out, I will do it today</td>\n",
              "      <td>16</td>\n",
              "      <td>female</td>\n",
              "      <td>Asian</td>\n",
              "      <td>san diego</td>\n",
              "      <td>12th grade</td>\n",
              "      <td>NaN</td>\n",
              "      <td>NaN</td>\n",
              "    </tr>\n",
              "    <tr>\n",
              "      <th>2</th>\n",
              "      <td>too many forms</td>\n",
              "      <td>Yes</td>\n",
              "      <td>Yes</td>\n",
              "      <td>NaN</td>\n",
              "      <td>12</td>\n",
              "      <td>Male</td>\n",
              "      <td>Asian</td>\n",
              "      <td>Riverside</td>\n",
              "      <td>7th grade</td>\n",
              "      <td>I think of people with hats asking for any amo...</td>\n",
              "      <td>NaN</td>\n",
              "    </tr>\n",
              "    <tr>\n",
              "      <th>3</th>\n",
              "      <td>too many forms</td>\n",
              "      <td>Yes</td>\n",
              "      <td>Yes</td>\n",
              "      <td>NaN</td>\n",
              "      <td>13</td>\n",
              "      <td>Male</td>\n",
              "      <td>Asian</td>\n",
              "      <td>Riverside</td>\n",
              "      <td>8th grade</td>\n",
              "      <td>los angeles</td>\n",
              "      <td>NaN</td>\n",
              "    </tr>\n",
              "    <tr>\n",
              "      <th>4</th>\n",
              "      <td>too many forms</td>\n",
              "      <td>No</td>\n",
              "      <td>No</td>\n",
              "      <td>I don't know where to find the parental waiver...</td>\n",
              "      <td>16</td>\n",
              "      <td>Female</td>\n",
              "      <td>Asian</td>\n",
              "      <td>Fremont, CA</td>\n",
              "      <td>11th grade</td>\n",
              "      <td>NaN</td>\n",
              "      <td>NaN</td>\n",
              "    </tr>\n",
              "    <tr>\n",
              "      <th>5</th>\n",
              "      <td>too many forms</td>\n",
              "      <td>No</td>\n",
              "      <td>Yes</td>\n",
              "      <td>NaN</td>\n",
              "      <td>17</td>\n",
              "      <td>female</td>\n",
              "      <td>Asian</td>\n",
              "      <td>Temple City</td>\n",
              "      <td>12th grade</td>\n",
              "      <td>NaN</td>\n",
              "      <td>NaN</td>\n",
              "    </tr>\n",
              "    <tr>\n",
              "      <th>6</th>\n",
              "      <td>too many forms</td>\n",
              "      <td>No</td>\n",
              "      <td>No</td>\n",
              "      <td>I forgot</td>\n",
              "      <td>17</td>\n",
              "      <td>Male</td>\n",
              "      <td>Asian, A race or ethnicity not listed here</td>\n",
              "      <td>Riverside</td>\n",
              "      <td>12th grade</td>\n",
              "      <td>NaN</td>\n",
              "      <td>NaN</td>\n",
              "    </tr>\n",
              "    <tr>\n",
              "      <th>7</th>\n",
              "      <td>too many forms</td>\n",
              "      <td>Yes</td>\n",
              "      <td>Yes</td>\n",
              "      <td>NaN</td>\n",
              "      <td>16</td>\n",
              "      <td>Male</td>\n",
              "      <td>Asian</td>\n",
              "      <td>Santa Maria</td>\n",
              "      <td>12th grade</td>\n",
              "      <td>Not having shelter</td>\n",
              "      <td>NaN</td>\n",
              "    </tr>\n",
              "    <tr>\n",
              "      <th>8</th>\n",
              "      <td>too many forms</td>\n",
              "      <td>Yes</td>\n",
              "      <td>Yes</td>\n",
              "      <td>NaN</td>\n",
              "      <td>13</td>\n",
              "      <td>Male</td>\n",
              "      <td>White or Caucasian</td>\n",
              "      <td>Moreno Valley</td>\n",
              "      <td>8th grade</td>\n",
              "      <td>Without a home, whether by choice or not.</td>\n",
              "      <td>NaN</td>\n",
              "    </tr>\n",
              "    <tr>\n",
              "      <th>9</th>\n",
              "      <td>too many forms</td>\n",
              "      <td>No</td>\n",
              "      <td>No</td>\n",
              "      <td>I don't have time right now. I will do it afte...</td>\n",
              "      <td>17</td>\n",
              "      <td>Female</td>\n",
              "      <td>Asian</td>\n",
              "      <td>San Jose</td>\n",
              "      <td>12th grade</td>\n",
              "      <td>people living on the street, no food or suppor...</td>\n",
              "      <td>NaN</td>\n",
              "    </tr>\n",
              "    <tr>\n",
              "      <th>10</th>\n",
              "      <td>too many forms</td>\n",
              "      <td>Yes</td>\n",
              "      <td>Yes</td>\n",
              "      <td>NaN</td>\n",
              "      <td>13</td>\n",
              "      <td>Male</td>\n",
              "      <td>Asian</td>\n",
              "      <td>Gilroy</td>\n",
              "      <td>9th grade</td>\n",
              "      <td>Growing up in a community where there is lots ...</td>\n",
              "      <td>NaN</td>\n",
              "    </tr>\n",
              "    <tr>\n",
              "      <th>11</th>\n",
              "      <td>too many forms</td>\n",
              "      <td>No</td>\n",
              "      <td>No</td>\n",
              "      <td>NaN</td>\n",
              "      <td>15</td>\n",
              "      <td>Female</td>\n",
              "      <td>Asian</td>\n",
              "      <td>Tracy</td>\n",
              "      <td>10th grade</td>\n",
              "      <td>Home and shelter</td>\n",
              "      <td>NaN</td>\n",
              "    </tr>\n",
              "    <tr>\n",
              "      <th>12</th>\n",
              "      <td>too many forms</td>\n",
              "      <td>No</td>\n",
              "      <td>No</td>\n",
              "      <td>NaN</td>\n",
              "      <td>13</td>\n",
              "      <td>Male</td>\n",
              "      <td>Hispanic or Latinx</td>\n",
              "      <td>Oxnard CA</td>\n",
              "      <td>9th grade</td>\n",
              "      <td>Fixing the homelessness issue</td>\n",
              "      <td>NaN</td>\n",
              "    </tr>\n",
              "    <tr>\n",
              "      <th>13</th>\n",
              "      <td>too many forms</td>\n",
              "      <td>No</td>\n",
              "      <td>No</td>\n",
              "      <td>says \"\"You can't respond to DSA Parental Waive...</td>\n",
              "      <td>12</td>\n",
              "      <td>male</td>\n",
              "      <td>Asian</td>\n",
              "      <td>Moreno Valley</td>\n",
              "      <td>7th grade</td>\n",
              "      <td>People that can't make enough money or don't h...</td>\n",
              "      <td>NaN</td>\n",
              "    </tr>\n",
              "    <tr>\n",
              "      <th>14</th>\n",
              "      <td>omg to many forms</td>\n",
              "      <td>Yes</td>\n",
              "      <td>Yes</td>\n",
              "      <td>NaN</td>\n",
              "      <td>11</td>\n",
              "      <td>male</td>\n",
              "      <td>Asian</td>\n",
              "      <td>corona</td>\n",
              "      <td>6th grade</td>\n",
              "      <td>people sleeping on the streets</td>\n",
              "      <td>NaN</td>\n",
              "    </tr>\n",
              "  </tbody>\n",
              "</table>\n",
              "</div>"
            ],
            "text/plain": [
              "          Secret Code  ... Comments\n",
              "0                 NaN  ...      NaN\n",
              "1      too many forms  ...      NaN\n",
              "2      too many forms  ...      NaN\n",
              "3      too many forms  ...      NaN\n",
              "4      too many forms  ...      NaN\n",
              "5      too many forms  ...      NaN\n",
              "6      too many forms  ...      NaN\n",
              "7      too many forms  ...      NaN\n",
              "8      too many forms  ...      NaN\n",
              "9      too many forms  ...      NaN\n",
              "10     too many forms  ...      NaN\n",
              "11     too many forms  ...      NaN\n",
              "12     too many forms  ...      NaN\n",
              "13     too many forms  ...      NaN\n",
              "14  omg to many forms  ...      NaN\n",
              "\n",
              "[15 rows x 11 columns]"
            ]
          },
          "execution_count": 9,
          "metadata": {},
          "output_type": "execute_result"
        },
        {
          "data": {
            "image/png": "[encoded data removed]",
            "text/plain": [
              "<Figure size 432x288 with 1 Axes>"
            ]
          },
          "metadata": {
            "needs_background": "light"
          },
          "output_type": "display_data"
        }
      ],
      "source": [
        "df['Secret Code'].apply(lambda x: str(x).strip().lower()).value_counts().plot(kind=\"bar\")\n"
      ]
    },
    {
      "cell_type": "code",
      "execution_count": null,
      "metadata": {
        "colab": {
          "base_uri": "https://localhost:8080/",
          "height": 718
        },
        "id": "MlQN0ahfPsAD",
        "outputId": "49458ecc-8843-4c38-fd61-a3000438356a"
      },
      "outputs": [
        {
          "name": "stdout",
          "output_type": "stream",
          "text": [
            "          Secret Code Waiver Complete  ... Comments Secret Code - fixed\n",
            "0                 NaN             Yes  ...      NaN                 nan\n",
            "1      too many forms              No  ...      NaN      too many forms\n",
            "2      too many forms             Yes  ...      NaN      too many forms\n",
            "3      too many forms             Yes  ...      NaN      too many forms\n",
            "4      too many forms              No  ...      NaN      too many forms\n",
            "5      too many forms              No  ...      NaN      too many forms\n",
            "6      too many forms              No  ...      NaN      too many forms\n",
            "7      too many forms             Yes  ...      NaN      too many forms\n",
            "8      too many forms             Yes  ...      NaN      too many forms\n",
            "9      too many forms              No  ...      NaN      too many forms\n",
            "10     too many forms             Yes  ...      NaN      too many forms\n",
            "11     too many forms              No  ...      NaN      too many forms\n",
            "12     too many forms              No  ...      NaN      too many forms\n",
            "13     too many forms              No  ...      NaN      too many forms\n",
            "14  omg to many forms             Yes  ...      NaN   omg to many forms\n",
            "\n",
            "[15 rows x 12 columns]\n"
          ]
        },
        {
          "data": {
            "text/plain": [
              "<matplotlib.axes._subplots.AxesSubplot at 0x7faddc1e2c90>"
            ]
          },
          "execution_count": 12,
          "metadata": {},
          "output_type": "execute_result"
        },
        {
          "data": {
            "image/png": "[encoded data removed]",
            "text/plain": [
              "<Figure size 432x288 with 1 Axes>"
            ]
          },
          "metadata": {
            "needs_background": "light"
          },
          "output_type": "display_data"
        }
      ],
      "source": [
        "df['Secret Code - fixed'] = df['Secret Code'].apply(lambda x: str(x).strip().lower())\n",
        "\n",
        "print(df.head(15))\n",
        "\n",
        "df['Secret Code - fixed'].value_counts().plot(kind=\"bar\")"
      ]
    },
    {
      "cell_type": "code",
      "execution_count": null,
      "metadata": {
        "colab": {
          "base_uri": "https://localhost:8080/",
          "height": 351
        },
        "id": "ufBGM4enQNM8",
        "outputId": "24b1cdd8-a9c0-4cee-e6f8-a8afa843d327"
      },
      "outputs": [
        {
          "data": {
            "text/plain": [
              "<matplotlib.axes._subplots.AxesSubplot at 0x7faddc1dea50>"
            ]
          },
          "execution_count": 13,
          "metadata": {},
          "output_type": "execute_result"
        },
        {
          "data": {
            "image/png": "[encoded data removed]",
            "text/plain": [
              "<Figure size 432x288 with 1 Axes>"
            ]
          },
          "metadata": {
            "needs_background": "light"
          },
          "output_type": "display_data"
        }
      ],
      "source": [
        "df['Secret Code - fixed'] = df['Secret Code - fixed'].replace(\"omg|oh my god|!|😨\", \"\", regex=True)\n",
        "df['Secret Code - fixed'] = df['Secret Code - fixed'].replace(\"nan\", \"BLANK\", regex=True)\n",
        "df['Secret Code - fixed'] = df['Secret Code - fixed'].apply(lambda x: str(x).strip().lower())\n",
        "df['Secret Code - fixed'] = df['Secret Code - fixed'].replace(\"to \", \"too \", regex=True)\n",
        "df['Secret Code - fixed'].value_counts().plot(kind=\"bar\")"
      ]
    },
    {
      "cell_type": "code",
      "execution_count": null,
      "metadata": {
        "colab": {
          "base_uri": "https://localhost:8080/",
          "height": 265
        },
        "id": "HBYQtxrZNtR2",
        "outputId": "94dee726-3e0f-4fa9-9a63-e72e2f99fc42"
      },
      "outputs": [
        {
          "data": {
            "text/plain": [
              "<matplotlib.axes._subplots.AxesSubplot at 0x7f2bf445a3d0>"
            ]
          },
          "execution_count": 125,
          "metadata": {},
          "output_type": "execute_result"
        },
        {
          "data": {
            "image/png": "[encoded data removed]",
            "text/plain": [
              "<Figure size 432x288 with 1 Axes>"
            ]
          },
          "metadata": {},
          "output_type": "display_data"
        }
      ],
      "source": [
        "df['Age'].value_counts().plot(kind=\"pie\")"
      ]
    },
    {
      "cell_type": "code",
      "execution_count": null,
      "metadata": {
        "colab": {
          "base_uri": "https://localhost:8080/",
          "height": 265
        },
        "id": "40pJsj6HNvgW",
        "outputId": "5221a2a1-afd0-4cee-b472-1bfcd0ceca5a"
      },
      "outputs": [
        {
          "data": {
            "text/plain": [
              "<matplotlib.axes._subplots.AxesSubplot at 0x7f2bf3c5f5d0>"
            ]
          },
          "execution_count": 129,
          "metadata": {},
          "output_type": "execute_result"
        },
        {
          "data": {
            "image/png": "[encoded data removed]",
            "text/plain": [
              "<Figure size 432x288 with 1 Axes>"
            ]
          },
          "metadata": {},
          "output_type": "display_data"
        }
      ],
      "source": [
        "df['Gender - fixed'] = df['Gender'].replace(\"girl\", \"female\", regex=True)\n",
        "df['Gender - fixed'].apply(lambda x: str(x).strip().lower()).value_counts().plot(kind=\"pie\")"
      ]
    },
    {
      "cell_type": "code",
      "execution_count": null,
      "metadata": {
        "colab": {
          "base_uri": "https://localhost:8080/",
          "height": 265
        },
        "id": "Ylag1rLFNxyb",
        "outputId": "ecb3c30e-8fbd-4879-ea85-3d1a4811c1c3"
      },
      "outputs": [
        {
          "data": {
            "text/plain": [
              "<matplotlib.axes._subplots.AxesSubplot at 0x7f2bf3c1dbd0>"
            ]
          },
          "execution_count": 130,
          "metadata": {},
          "output_type": "execute_result"
        },
        {
          "data": {
            "image/png": "[encoded data removed]",
            "text/plain": [
              "<Figure size 432x288 with 1 Axes>"
            ]
          },
          "metadata": {},
          "output_type": "display_data"
        }
      ],
      "source": [
        "df['Race/Ethnicity'].value_counts().plot(kind=\"pie\")"
      ]
    }
  ],
  "metadata": {
    "colab": {
      "collapsed_sections": [],
      "name": "Copy of Day 2 Lesson - Data Analysis and Visualization",
      "provenance": []
    },
    "kernelspec": {
      "display_name": "Python 3",
      "name": "python3"
    }
  },
  "nbformat": 4,
  "nbformat_minor": 0
}
