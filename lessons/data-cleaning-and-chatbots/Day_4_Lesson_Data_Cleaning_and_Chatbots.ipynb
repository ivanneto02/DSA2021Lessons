{
  "nbformat": 4,
  "nbformat_minor": 0,
  "metadata": {
    "colab": {
      "name": "Day 4 Lesson - Data Cleaning and Chatbots",
      "provenance": [],
      "collapsed_sections": []
    },
    "kernelspec": {
      "name": "python3",
      "display_name": "Python 3"
    },
    "language_info": {
      "name": "python"
    }
  },
  "cells": [
    {
      "cell_type": "markdown",
      "metadata": {
        "id": "gOpTbI7_nEd1"
      },
      "source": [
        "# Data Cleaning\n",
        "Data is messy. The vast majority, some say as much as 90%, of a Data Scientist's time is spent cleaning data.\n",
        "\n",
        "<img src=\"https://www.cleanarte.com/wp-content/uploads/2020/10/Regular-House-Cleaning-1.jpg\" width=\"80%\"/>\n",
        "\n",
        "There are many tools and techniques for cleaning data, and one that is not only very useful, but also fundamental to computation is **regular expressions**. Regular expressions are used for pattern matching and are a quick and fun way to find and fix messy data.\n",
        "\n",
        "You can do so much with regular expressions, and for fun, we'll show you not only how to clean data with them, but to use regular expressions to make a ChatBot!\n",
        "\n"
      ]
    },
    {
      "cell_type": "code",
      "metadata": {
        "colab": {
          "base_uri": "https://localhost:8080/"
        },
        "id": "xttFm9L0dP5p",
        "outputId": "6f06aa5e-f8b1-460e-bf1d-2fd9a24c42bd"
      },
      "source": [
        "from google.colab import drive\n",
        "drive.mount('/content/drive')"
      ],
      "execution_count": null,
      "outputs": [
        {
          "output_type": "stream",
          "text": [
            "Mounted at /content/drive\n"
          ],
          "name": "stdout"
        }
      ]
    },
    {
      "cell_type": "markdown",
      "metadata": {
        "id": "zPP5XbKMbzrI"
      },
      "source": [
        "# Regular Expressions (RegEx)\n",
        "**Regular Expressions** are simple yet powerful pattern matching \"mini programs\" that almost every language or application that deals with textual data supports. You can test your regular expressions using online testing tools, such as: https://regexr.com/.\n",
        "\n",
        "We will learn about regular expressions to do:\n",
        "\n",
        "1.   Data Cleaning\n",
        "2.   Chatbots!\n"
      ]
    },
    {
      "cell_type": "markdown",
      "metadata": {
        "id": "h3KOKnIccKq_"
      },
      "source": [
        "## Data Cleaning: Regular expressions in Google Sheets\n",
        "Google Sheets has a **regexreplace** function. Try the following Google Sheet to play with regex: https://docs.google.com/spreadsheets/d/1HwAIK_U-p2SbgonV-vPWkxtTGc-tAal7Nx3YHFjEvrQ/edit?usp=sharing\n",
        "\n",
        "Clean the code in large chunks by applying patterns, such as:\n",
        "\n",
        "```\n",
        "=REGEXREPLACE(D2, \"[Ff]emale\", \"FEMALE\")\n",
        "```\n",
        "\n",
        "That pattern will match \"female\" or \"Female\" and replace it with simply \"FEMALE\" -- which will in effect normalize that data and make it uniform. \n",
        "\n",
        "But it would NOT match \"male\" since it's looking for the \"fe\" part as well.\n",
        "\n",
        "We have to be careful! Because if we do it in reverse, that is, replace \"[Mm]ale\" with male, it will do somethig strange. \n",
        "\n",
        "What do you think it will result for that replacement on \"Female\"? Let's try it!"
      ]
    },
    {
      "cell_type": "code",
      "metadata": {
        "colab": {
          "base_uri": "https://localhost:8080/",
          "height": 323
        },
        "id": "oV838szViJqv",
        "outputId": "98c3a54b-e79e-4116-fc86-ef455c5b2f09"
      },
      "source": [
        "import pandas as pd\n",
        "\n",
        "df = pd.read_csv('/content/sample_data/attendance1anon - attendance1anon (2).csv')\n",
        "df.head(5)"
      ],
      "execution_count": null,
      "outputs": [
        {
          "output_type": "execute_result",
          "data": {
            "text/html": [
              "<div>\n",
              "<style scoped>\n",
              "    .dataframe tbody tr th:only-of-type {\n",
              "        vertical-align: middle;\n",
              "    }\n",
              "\n",
              "    .dataframe tbody tr th {\n",
              "        vertical-align: top;\n",
              "    }\n",
              "\n",
              "    .dataframe thead th {\n",
              "        text-align: right;\n",
              "    }\n",
              "</style>\n",
              "<table border=\"1\" class=\"dataframe\">\n",
              "  <thead>\n",
              "    <tr style=\"text-align: right;\">\n",
              "      <th></th>\n",
              "      <th>What school are you from?</th>\n",
              "      <th>What grade will you be this Fall?</th>\n",
              "      <th>Please remember to download the waiver, have your parent sign it tonight, and have a digital copy ready for upload on Wednesday.</th>\n",
              "      <th>With what gender do you identify?</th>\n",
              "      <th>GENDER-fix-FEMALE</th>\n",
              "      <th>GENDER-fix-MALE</th>\n",
              "      <th>With what race(s) and ethnicity do you identify?</th>\n",
              "      <th>Secret Code</th>\n",
              "      <th>Comments</th>\n",
              "    </tr>\n",
              "  </thead>\n",
              "  <tbody>\n",
              "    <tr>\n",
              "      <th>0</th>\n",
              "      <td>Park view middle school</td>\n",
              "      <td>9</td>\n",
              "      <td>I promise I will remember.</td>\n",
              "      <td>Male</td>\n",
              "      <td>Male</td>\n",
              "      <td>MALE</td>\n",
              "      <td>Asian</td>\n",
              "      <td>NaN</td>\n",
              "      <td>NaN</td>\n",
              "    </tr>\n",
              "    <tr>\n",
              "      <th>1</th>\n",
              "      <td>North Hollywood HS</td>\n",
              "      <td>11</td>\n",
              "      <td>I promise I will remember.</td>\n",
              "      <td>Male</td>\n",
              "      <td>Male</td>\n",
              "      <td>MALE</td>\n",
              "      <td>White</td>\n",
              "      <td>NaN</td>\n",
              "      <td>NaN</td>\n",
              "    </tr>\n",
              "    <tr>\n",
              "      <th>2</th>\n",
              "      <td>Summit High School</td>\n",
              "      <td>10</td>\n",
              "      <td>I promise I will remember.</td>\n",
              "      <td>Male</td>\n",
              "      <td>Male</td>\n",
              "      <td>MALE</td>\n",
              "      <td>Asian (Chinese)</td>\n",
              "      <td>NaN</td>\n",
              "      <td>None</td>\n",
              "    </tr>\n",
              "    <tr>\n",
              "      <th>3</th>\n",
              "      <td>North Hollywood HS</td>\n",
              "      <td>11</td>\n",
              "      <td>I promise I will remember.</td>\n",
              "      <td>Male</td>\n",
              "      <td>Male</td>\n",
              "      <td>MALE</td>\n",
              "      <td>White</td>\n",
              "      <td>Goat</td>\n",
              "      <td>NaN</td>\n",
              "    </tr>\n",
              "    <tr>\n",
              "      <th>4</th>\n",
              "      <td>West High</td>\n",
              "      <td>12</td>\n",
              "      <td>I promise I will remember.</td>\n",
              "      <td>male</td>\n",
              "      <td>male</td>\n",
              "      <td>MALE</td>\n",
              "      <td>Asian - Indian</td>\n",
              "      <td>GOAT</td>\n",
              "      <td>NaN</td>\n",
              "    </tr>\n",
              "  </tbody>\n",
              "</table>\n",
              "</div>"
            ],
            "text/plain": [
              "  What school are you from?  ...  Comments\n",
              "0   Park view middle school  ...       NaN\n",
              "1        North Hollywood HS  ...       NaN\n",
              "2        Summit High School  ...      None\n",
              "3        North Hollywood HS  ...       NaN\n",
              "4                 West High  ...       NaN\n",
              "\n",
              "[5 rows x 9 columns]"
            ]
          },
          "metadata": {
            "tags": []
          },
          "execution_count": 21
        }
      ]
    },
    {
      "cell_type": "markdown",
      "metadata": {
        "id": "LvEUshXciqc5"
      },
      "source": [
        "### Before: gender is messy"
      ]
    },
    {
      "cell_type": "code",
      "metadata": {
        "colab": {
          "base_uri": "https://localhost:8080/",
          "height": 265
        },
        "id": "hZbCJrIRiY01",
        "outputId": "0c15b14e-b0dd-4214-851a-13038e4ee0de"
      },
      "source": [
        "df[\"With what gender do you identify?\"].value_counts().plot(kind=\"pie\")"
      ],
      "execution_count": null,
      "outputs": [
        {
          "output_type": "execute_result",
          "data": {
            "text/plain": [
              "<matplotlib.axes._subplots.AxesSubplot at 0x7fad4346f590>"
            ]
          },
          "metadata": {
            "tags": []
          },
          "execution_count": 22
        },
        {
          "output_type": "display_data",
          "data": {
            "image/png": "[encoded data removed]",
            "text/plain": [
              "<Figure size 432x288 with 1 Axes>"
            ]
          },
          "metadata": {
            "tags": []
          }
        }
      ]
    },
    {
      "cell_type": "markdown",
      "metadata": {
        "id": "1N2fLJfWisXY"
      },
      "source": [
        "### After fixing FEMALE"
      ]
    },
    {
      "cell_type": "code",
      "metadata": {
        "colab": {
          "base_uri": "https://localhost:8080/",
          "height": 265
        },
        "id": "CcCUI9x5ica5",
        "outputId": "2167a094-fb17-41c4-af74-742199ae0e95"
      },
      "source": [
        "df[\"GENDER-fix-FEMALE\"].value_counts().plot(kind=\"pie\")"
      ],
      "execution_count": null,
      "outputs": [
        {
          "output_type": "execute_result",
          "data": {
            "text/plain": [
              "<matplotlib.axes._subplots.AxesSubplot at 0x7fad433fc390>"
            ]
          },
          "metadata": {
            "tags": []
          },
          "execution_count": 23
        },
        {
          "output_type": "display_data",
          "data": {
            "image/png": "[encoded data removed]",
            "text/plain": [
              "<Figure size 432x288 with 1 Axes>"
            ]
          },
          "metadata": {
            "tags": []
          }
        }
      ]
    },
    {
      "cell_type": "markdown",
      "metadata": {
        "id": "6xdJpjYeitxv"
      },
      "source": [
        "### After fixing MALE"
      ]
    },
    {
      "cell_type": "code",
      "metadata": {
        "id": "Mjh9OtwBimEi",
        "colab": {
          "base_uri": "https://localhost:8080/",
          "height": 265
        },
        "outputId": "40578bce-95b5-498f-90b6-7d23b5e3c3d6"
      },
      "source": [
        "df[\"GENDER-fix-MALE\"].value_counts().plot(kind=\"pie\")"
      ],
      "execution_count": null,
      "outputs": [
        {
          "output_type": "execute_result",
          "data": {
            "text/plain": [
              "<matplotlib.axes._subplots.AxesSubplot at 0x7fad433d5b10>"
            ]
          },
          "metadata": {
            "tags": []
          },
          "execution_count": 25
        },
        {
          "output_type": "display_data",
          "data": {
            "image/png": "[encoded data removed]",
            "text/plain": [
              "<Figure size 432x288 with 1 Axes>"
            ]
          },
          "metadata": {
            "tags": []
          }
        }
      ]
    },
    {
      "cell_type": "markdown",
      "metadata": {
        "id": "FAvn1fAAcDeg"
      },
      "source": [
        "## Data Cleaning: Regular Expressions in Pandas\n",
        "Python and Pandas also support **regular expressions**. So, rather than switching to Google Sheets, we can actually avoid all that and use code directly! Python regular expression library docs are here: https://docs.python.org/3/library/re.html.\n",
        "\n",
        "The important thing to remember, with Pandas dataframes, we can operate on entire vectors or matrices all at once. Behind the scenes, you can imagine it is simply looping over the data range for you. Technically, this is called \"applying\" a function across the dataframe.\n",
        "\n",
        "What may be confusing, even though we are writing Python code, the \"replace\" function is coming from Pandas, so it's Panda's particular version of regular expressions. Doh!"
      ]
    },
    {
      "cell_type": "markdown",
      "metadata": {
        "id": "EH7whnUQjPf0"
      },
      "source": [
        "### Before: gender is messy"
      ]
    },
    {
      "cell_type": "code",
      "metadata": {
        "id": "s6PhcivAjS03",
        "colab": {
          "base_uri": "https://localhost:8080/",
          "height": 265
        },
        "outputId": "fa3abb40-1aec-42db-f20f-942051906168"
      },
      "source": [
        "df[\"With what gender do you identify?\"].value_counts().plot(kind=\"pie\")"
      ],
      "execution_count": null,
      "outputs": [
        {
          "output_type": "execute_result",
          "data": {
            "text/plain": [
              "<matplotlib.axes._subplots.AxesSubplot at 0x7fad43351d10>"
            ]
          },
          "metadata": {
            "tags": []
          },
          "execution_count": 26
        },
        {
          "output_type": "display_data",
          "data": {
            "image/png": "[encoded data removed]",
            "text/plain": [
              "<Figure size 432x288 with 1 Axes>"
            ]
          },
          "metadata": {
            "tags": []
          }
        }
      ]
    },
    {
      "cell_type": "markdown",
      "metadata": {
        "id": "Xi2GJUB2jl6n"
      },
      "source": [
        "### After fixing FEMALE"
      ]
    },
    {
      "cell_type": "code",
      "metadata": {
        "id": "Ol8K1geNdnQX",
        "colab": {
          "base_uri": "https://localhost:8080/",
          "height": 265
        },
        "outputId": "8e705aae-39c2-452f-c6f0-24c08f1c3a9e"
      },
      "source": [
        "df[\"With what gender do you identify?\"] = df[\"With what gender do you identify?\"].replace(\"\\s*[Ff]emale\\s*\", \"FEMALE\", regex=True)\n",
        "df[\"With what gender do you identify?\"].value_counts().plot(kind=\"pie\")\n"
      ],
      "execution_count": null,
      "outputs": [
        {
          "output_type": "execute_result",
          "data": {
            "text/plain": [
              "<matplotlib.axes._subplots.AxesSubplot at 0x7fad432bd390>"
            ]
          },
          "metadata": {
            "tags": []
          },
          "execution_count": 27
        },
        {
          "output_type": "display_data",
          "data": {
            "image/png": "[encoded data removed]",
            "text/plain": [
              "<Figure size 432x288 with 1 Axes>"
            ]
          },
          "metadata": {
            "tags": []
          }
        }
      ]
    },
    {
      "cell_type": "markdown",
      "metadata": {
        "id": "NGV3cGJTjpM1"
      },
      "source": [
        "### After fixing MALE"
      ]
    },
    {
      "cell_type": "code",
      "metadata": {
        "id": "B05Vq67PjryQ",
        "colab": {
          "base_uri": "https://localhost:8080/",
          "height": 265
        },
        "outputId": "51bc7946-d367-4693-8cc6-68b60cce990d"
      },
      "source": [
        "df[\"With what gender do you identify?\"] = df[\"With what gender do you identify?\"].replace(\"\\s*[Mm]ale\\s*\", \"MALE\", regex=True)\n",
        "df[\"With what gender do you identify?\"].value_counts().plot(kind=\"pie\")"
      ],
      "execution_count": null,
      "outputs": [
        {
          "output_type": "execute_result",
          "data": {
            "text/plain": [
              "<matplotlib.axes._subplots.AxesSubplot at 0x7fad432869d0>"
            ]
          },
          "metadata": {
            "tags": []
          },
          "execution_count": 28
        },
        {
          "output_type": "display_data",
          "data": {
            "image/png": "[encoded data removed]",
            "text/plain": [
              "<Figure size 432x288 with 1 Axes>"
            ]
          },
          "metadata": {
            "tags": []
          }
        }
      ]
    },
    {
      "cell_type": "markdown",
      "metadata": {
        "id": "dsrJTsmvli0A"
      },
      "source": [
        "# Review: unstructured data visualization\n",
        "Wordclouds."
      ]
    },
    {
      "cell_type": "code",
      "metadata": {
        "id": "x5E2TZHGloQp",
        "colab": {
          "base_uri": "https://localhost:8080/"
        },
        "outputId": "888f8269-942a-428c-acb2-39678268091f"
      },
      "source": [
        "!pip install wordcloud"
      ],
      "execution_count": null,
      "outputs": [
        {
          "output_type": "stream",
          "text": [
            "Requirement already satisfied: wordcloud in /usr/local/lib/python3.7/dist-packages (1.5.0)\n",
            "Requirement already satisfied: pillow in /usr/local/lib/python3.7/dist-packages (from wordcloud) (7.1.2)\n",
            "Requirement already satisfied: numpy>=1.6.1 in /usr/local/lib/python3.7/dist-packages (from wordcloud) (1.19.5)\n"
          ],
          "name": "stdout"
        }
      ]
    },
    {
      "cell_type": "code",
      "metadata": {
        "id": "WD_4qNcqls6z"
      },
      "source": [
        "# Allows you to work with directories\n",
        "from os import path\n",
        "\n",
        "# Module to work with images\n",
        "from PIL import Image\n",
        "\n",
        "# Scientific Computation and Linear Algebra for Python\n",
        "import numpy as np\n",
        "\n",
        "# Module to graph things out\n",
        "import matplotlib.pyplot as plt\n",
        "\n",
        "# The specific module we will need to generate Word Clouds!\n",
        "from wordcloud import WordCloud, STOPWORDS"
      ],
      "execution_count": null,
      "outputs": []
    },
    {
      "cell_type": "code",
      "metadata": {
        "id": "kolgVkHIl4z6",
        "colab": {
          "base_uri": "https://localhost:8080/",
          "height": 508
        },
        "outputId": "1e235d0d-e2b5-435b-d066-873eed6a31cd"
      },
      "source": [
        "homelessness_data = pd.read_csv('/content/sample_data/Copy of 2020_PIT_final_data - deduped_data - scrubbed (2).csv')\n",
        "homelessness_data.head(5)\n"
      ],
      "execution_count": null,
      "outputs": [
        {
          "output_type": "execute_result",
          "data": {
            "text/html": [
              "<div>\n",
              "<style scoped>\n",
              "    .dataframe tbody tr th:only-of-type {\n",
              "        vertical-align: middle;\n",
              "    }\n",
              "\n",
              "    .dataframe tbody tr th {\n",
              "        vertical-align: top;\n",
              "    }\n",
              "\n",
              "    .dataframe thead th {\n",
              "        text-align: right;\n",
              "    }\n",
              "</style>\n",
              "<table border=\"1\" class=\"dataframe\">\n",
              "  <thead>\n",
              "    <tr style=\"text-align: right;\">\n",
              "      <th></th>\n",
              "      <th>ObjectID</th>\n",
              "      <th>GlobalID</th>\n",
              "      <th>First_Name_Initial</th>\n",
              "      <th>Last_Name_Initial</th>\n",
              "      <th>Relationship_To_HoH</th>\n",
              "      <th>Age_As_Of_Today</th>\n",
              "      <th>Ethnicity</th>\n",
              "      <th>Race</th>\n",
              "      <th>Gender</th>\n",
              "      <th>Birth_City</th>\n",
              "      <th>Birth_State</th>\n",
              "      <th>Birth_State_Other</th>\n",
              "      <th>First_Time_Homeless</th>\n",
              "      <th>Length_Of_Stay</th>\n",
              "      <th>Times_Homeless_Past_Three_Years</th>\n",
              "      <th>Months_Homeless_Past_Three_Year</th>\n",
              "      <th>Contributing_Factors</th>\n",
              "      <th>Contributing_Factors_Other</th>\n",
              "      <th>Companion_Animal</th>\n",
              "      <th>Number_of_Animal</th>\n",
              "      <th>Pet_Housing</th>\n",
              "      <th>Pregnancy_Status</th>\n",
              "      <th>Expectant_Parent</th>\n",
              "      <th>Foster_Placement</th>\n",
              "      <th>Foster_Housing_Assistance</th>\n",
              "      <th>Jail_Placement</th>\n",
              "      <th>Jail_Housing_Assistance</th>\n",
              "      <th>Healthcare_Placement</th>\n",
              "      <th>Healthcare_Housing_Assistance</th>\n",
              "      <th>School_Status</th>\n",
              "      <th>Last_Grade_Completed</th>\n",
              "      <th>Employment_Type</th>\n",
              "      <th>Other_Employment_Type</th>\n",
              "      <th>Think_about_the_last_time_you_f</th>\n",
              "      <th>Stable_Housing</th>\n",
              "      <th>Lost_Housing_Reason</th>\n",
              "      <th>Services_Obtained</th>\n",
              "      <th>Other_Services_Obtained</th>\n",
              "      <th>United_States_Armed_Forces</th>\n",
              "      <th>Active_Duty_Period</th>\n",
              "      <th>...</th>\n",
              "      <th>Native_Hawaiian</th>\n",
              "      <th>White</th>\n",
              "      <th>Hispanic</th>\n",
              "      <th>Gender_Individual</th>\n",
              "      <th>ParentGlobalID</th>\n",
              "      <th>CreationDate</th>\n",
              "      <th>Creator</th>\n",
              "      <th>EditDate</th>\n",
              "      <th>Editor</th>\n",
              "      <th>DISTRICT</th>\n",
              "      <th>SUPERVISOR</th>\n",
              "      <th>CITYNAME</th>\n",
              "      <th>P_ObjectID</th>\n",
              "      <th>P_GlobalID</th>\n",
              "      <th>P_logo</th>\n",
              "      <th>P_Surveyor_ID</th>\n",
              "      <th>P_Able_To_Survey</th>\n",
              "      <th>P_Hello,_my_name_is__________________._Today_we_are_are_conducting_a_survey_to_better_understand_a_person's_housing_status._It_is_up_to_you_whether_you_want_to_participate,_and_your_answers_will_not_be_shared_with_anyone_outside_of_our_team._For_your_assistance,_we_have_an_incentive_bag_with_goodies_after_you_complete_the_survey.</th>\n",
              "      <th>P_Permission_To_Survey</th>\n",
              "      <th>P_Living_Situation</th>\n",
              "      <th>P_Living_Situation_Other</th>\n",
              "      <th>P_Living_Situation_Vehicle</th>\n",
              "      <th>P_Already_Surveyed</th>\n",
              "      <th>P_Survey_Type</th>\n",
              "      <th>P_Number_of_Adults</th>\n",
              "      <th>P_Number_of_Children</th>\n",
              "      <th>P_Total_Household</th>\n",
              "      <th>P_Thank_you_for_your_time!_Do_not_continue_with_the_survey.</th>\n",
              "      <th>P_Because_this_person_is_unable_or_unwilling_to_be_interviewed,_complete_the_following_questions_to_the_best_of_your_ability_based_on_what_you_can_observe_of_the_person_and_members_of_their_household._Each_household_should_be_submitted_as_a_separate_survey.</th>\n",
              "      <th>P_Individual_Questions_count</th>\n",
              "      <th>P_Those_are_all_the_questions_we_have_for_you._We_realize_that_some_of_the_topics_covered_are_personal_and_can_be_difficult_to_talk_about._As_a_reminder_your_responses_will_not_be_shared_with_anyone_outside_of_our_team._Thank_you_for_taking_the_survey!</th>\n",
              "      <th>P_Survey_Start_Time</th>\n",
              "      <th>P_Survey_End_Time</th>\n",
              "      <th>P_CreationDate</th>\n",
              "      <th>P_Creator</th>\n",
              "      <th>P_EditDate</th>\n",
              "      <th>P_Editor</th>\n",
              "      <th>P_x</th>\n",
              "      <th>P_y</th>\n",
              "      <th>Household_Survey_Type</th>\n",
              "    </tr>\n",
              "  </thead>\n",
              "  <tbody>\n",
              "    <tr>\n",
              "      <th>0</th>\n",
              "      <td>160</td>\n",
              "      <td>NaN</td>\n",
              "      <td>M</td>\n",
              "      <td>Q</td>\n",
              "      <td>NaN</td>\n",
              "      <td>51.0</td>\n",
              "      <td>Yes</td>\n",
              "      <td>White</td>\n",
              "      <td>Female</td>\n",
              "      <td>Manhattan</td>\n",
              "      <td>NY</td>\n",
              "      <td>NaN</td>\n",
              "      <td>Yes</td>\n",
              "      <td>NaN</td>\n",
              "      <td>NaN</td>\n",
              "      <td>NaN</td>\n",
              "      <td>Unemployment</td>\n",
              "      <td>NaN</td>\n",
              "      <td>Yes</td>\n",
              "      <td>1.0</td>\n",
              "      <td>No</td>\n",
              "      <td>NaN</td>\n",
              "      <td>NaN</td>\n",
              "      <td>NaN</td>\n",
              "      <td>NaN</td>\n",
              "      <td>NaN</td>\n",
              "      <td>NaN</td>\n",
              "      <td>NaN</td>\n",
              "      <td>NaN</td>\n",
              "      <td>NaN</td>\n",
              "      <td>NaN</td>\n",
              "      <td>NaN</td>\n",
              "      <td>NaN</td>\n",
              "      <td>NaN</td>\n",
              "      <td>NaN</td>\n",
              "      <td>NaN</td>\n",
              "      <td>NaN</td>\n",
              "      <td>NaN</td>\n",
              "      <td>No</td>\n",
              "      <td>NaN</td>\n",
              "      <td>...</td>\n",
              "      <td>0</td>\n",
              "      <td>1</td>\n",
              "      <td>1</td>\n",
              "      <td>Female</td>\n",
              "      <td>9df81904-956e-4052-9514-6bf6909d5839</td>\n",
              "      <td>1/29/20 13:39</td>\n",
              "      <td>NaN</td>\n",
              "      <td>1/29/20 13:39</td>\n",
              "      <td>NaN</td>\n",
              "      <td>3</td>\n",
              "      <td>CHUCK WASHINGTON</td>\n",
              "      <td>SAN JACINTO</td>\n",
              "      <td>136</td>\n",
              "      <td>9df81904-956e-4052-9514-6bf6909d5839</td>\n",
              "      <td>NaN</td>\n",
              "      <td>7BDW</td>\n",
              "      <td>Yes</td>\n",
              "      <td>NaN</td>\n",
              "      <td>Yes</td>\n",
              "      <td>Other</td>\n",
              "      <td>Church</td>\n",
              "      <td>NaN</td>\n",
              "      <td>No</td>\n",
              "      <td>Interview</td>\n",
              "      <td>1</td>\n",
              "      <td>0</td>\n",
              "      <td>1</td>\n",
              "      <td>NaN</td>\n",
              "      <td>NaN</td>\n",
              "      <td>1</td>\n",
              "      <td>NaN</td>\n",
              "      <td>NaN</td>\n",
              "      <td>NaN</td>\n",
              "      <td>NaN</td>\n",
              "      <td>NaN</td>\n",
              "      <td>NaN</td>\n",
              "      <td>NaN</td>\n",
              "      <td>NaN</td>\n",
              "      <td>NaN</td>\n",
              "      <td>Interview</td>\n",
              "    </tr>\n",
              "    <tr>\n",
              "      <th>1</th>\n",
              "      <td>161</td>\n",
              "      <td>NaN</td>\n",
              "      <td>M</td>\n",
              "      <td>T</td>\n",
              "      <td>NaN</td>\n",
              "      <td>50.0</td>\n",
              "      <td>Yes</td>\n",
              "      <td>AmericanIndian</td>\n",
              "      <td>Male</td>\n",
              "      <td>Huntington Beach</td>\n",
              "      <td>CA</td>\n",
              "      <td>NaN</td>\n",
              "      <td>Yes</td>\n",
              "      <td>NaN</td>\n",
              "      <td>NaN</td>\n",
              "      <td>NaN</td>\n",
              "      <td>Other</td>\n",
              "      <td>Break down in relationship</td>\n",
              "      <td>No</td>\n",
              "      <td>NaN</td>\n",
              "      <td>NaN</td>\n",
              "      <td>NaN</td>\n",
              "      <td>NaN</td>\n",
              "      <td>NaN</td>\n",
              "      <td>NaN</td>\n",
              "      <td>NaN</td>\n",
              "      <td>NaN</td>\n",
              "      <td>NaN</td>\n",
              "      <td>NaN</td>\n",
              "      <td>NaN</td>\n",
              "      <td>NaN</td>\n",
              "      <td>NaN</td>\n",
              "      <td>NaN</td>\n",
              "      <td>NaN</td>\n",
              "      <td>NaN</td>\n",
              "      <td>NaN</td>\n",
              "      <td>NaN</td>\n",
              "      <td>NaN</td>\n",
              "      <td>No</td>\n",
              "      <td>NaN</td>\n",
              "      <td>...</td>\n",
              "      <td>0</td>\n",
              "      <td>0</td>\n",
              "      <td>1</td>\n",
              "      <td>Male</td>\n",
              "      <td>ad44dee3-64b1-4bda-9e82-b510190c41dc</td>\n",
              "      <td>1/29/20 13:41</td>\n",
              "      <td>NaN</td>\n",
              "      <td>1/29/20 13:41</td>\n",
              "      <td>NaN</td>\n",
              "      <td>3</td>\n",
              "      <td>CHUCK WASHINGTON</td>\n",
              "      <td>SAN JACINTO</td>\n",
              "      <td>137</td>\n",
              "      <td>ad44dee3-64b1-4bda-9e82-b510190c41dc</td>\n",
              "      <td>NaN</td>\n",
              "      <td>R5to</td>\n",
              "      <td>Yes</td>\n",
              "      <td>NaN</td>\n",
              "      <td>Yes</td>\n",
              "      <td>Street</td>\n",
              "      <td>NaN</td>\n",
              "      <td>NaN</td>\n",
              "      <td>No</td>\n",
              "      <td>Interview</td>\n",
              "      <td>1</td>\n",
              "      <td>0</td>\n",
              "      <td>1</td>\n",
              "      <td>NaN</td>\n",
              "      <td>NaN</td>\n",
              "      <td>1</td>\n",
              "      <td>NaN</td>\n",
              "      <td>NaN</td>\n",
              "      <td>NaN</td>\n",
              "      <td>NaN</td>\n",
              "      <td>NaN</td>\n",
              "      <td>NaN</td>\n",
              "      <td>NaN</td>\n",
              "      <td>NaN</td>\n",
              "      <td>NaN</td>\n",
              "      <td>Interview</td>\n",
              "    </tr>\n",
              "    <tr>\n",
              "      <th>2</th>\n",
              "      <td>162</td>\n",
              "      <td>NaN</td>\n",
              "      <td>J</td>\n",
              "      <td>M</td>\n",
              "      <td>NaN</td>\n",
              "      <td>66.0</td>\n",
              "      <td>Yes</td>\n",
              "      <td>White</td>\n",
              "      <td>Male</td>\n",
              "      <td>Yonkers</td>\n",
              "      <td>NY</td>\n",
              "      <td>NaN</td>\n",
              "      <td>No</td>\n",
              "      <td>No</td>\n",
              "      <td>No</td>\n",
              "      <td>NaN</td>\n",
              "      <td>Other</td>\n",
              "      <td>Lost family to 911</td>\n",
              "      <td>No</td>\n",
              "      <td>NaN</td>\n",
              "      <td>NaN</td>\n",
              "      <td>NaN</td>\n",
              "      <td>NaN</td>\n",
              "      <td>NaN</td>\n",
              "      <td>NaN</td>\n",
              "      <td>NaN</td>\n",
              "      <td>NaN</td>\n",
              "      <td>NaN</td>\n",
              "      <td>NaN</td>\n",
              "      <td>NaN</td>\n",
              "      <td>NaN</td>\n",
              "      <td>NaN</td>\n",
              "      <td>NaN</td>\n",
              "      <td>NaN</td>\n",
              "      <td>NaN</td>\n",
              "      <td>NaN</td>\n",
              "      <td>NaN</td>\n",
              "      <td>NaN</td>\n",
              "      <td>Yes</td>\n",
              "      <td>August1964April1975</td>\n",
              "      <td>...</td>\n",
              "      <td>0</td>\n",
              "      <td>1</td>\n",
              "      <td>1</td>\n",
              "      <td>Male</td>\n",
              "      <td>85dd95fe-9c83-4e19-97a0-fc55fb028ab5</td>\n",
              "      <td>1/29/20 13:45</td>\n",
              "      <td>NaN</td>\n",
              "      <td>1/29/20 13:45</td>\n",
              "      <td>NaN</td>\n",
              "      <td>3</td>\n",
              "      <td>CHUCK WASHINGTON</td>\n",
              "      <td>SAN JACINTO</td>\n",
              "      <td>138</td>\n",
              "      <td>85dd95fe-9c83-4e19-97a0-fc55fb028ab5</td>\n",
              "      <td>NaN</td>\n",
              "      <td>UTOX</td>\n",
              "      <td>Yes</td>\n",
              "      <td>NaN</td>\n",
              "      <td>Yes</td>\n",
              "      <td>Street</td>\n",
              "      <td>NaN</td>\n",
              "      <td>NaN</td>\n",
              "      <td>No</td>\n",
              "      <td>Interview</td>\n",
              "      <td>1</td>\n",
              "      <td>0</td>\n",
              "      <td>1</td>\n",
              "      <td>NaN</td>\n",
              "      <td>NaN</td>\n",
              "      <td>1</td>\n",
              "      <td>NaN</td>\n",
              "      <td>NaN</td>\n",
              "      <td>NaN</td>\n",
              "      <td>NaN</td>\n",
              "      <td>NaN</td>\n",
              "      <td>NaN</td>\n",
              "      <td>NaN</td>\n",
              "      <td>NaN</td>\n",
              "      <td>NaN</td>\n",
              "      <td>Interview</td>\n",
              "    </tr>\n",
              "    <tr>\n",
              "      <th>3</th>\n",
              "      <td>163</td>\n",
              "      <td>NaN</td>\n",
              "      <td>NaN</td>\n",
              "      <td>NaN</td>\n",
              "      <td>NaN</td>\n",
              "      <td>NaN</td>\n",
              "      <td>NaN</td>\n",
              "      <td>NaN</td>\n",
              "      <td>NaN</td>\n",
              "      <td>NaN</td>\n",
              "      <td>NaN</td>\n",
              "      <td>NaN</td>\n",
              "      <td>NaN</td>\n",
              "      <td>NaN</td>\n",
              "      <td>NaN</td>\n",
              "      <td>NaN</td>\n",
              "      <td>NaN</td>\n",
              "      <td>NaN</td>\n",
              "      <td>NaN</td>\n",
              "      <td>NaN</td>\n",
              "      <td>NaN</td>\n",
              "      <td>NaN</td>\n",
              "      <td>NaN</td>\n",
              "      <td>NaN</td>\n",
              "      <td>NaN</td>\n",
              "      <td>NaN</td>\n",
              "      <td>NaN</td>\n",
              "      <td>NaN</td>\n",
              "      <td>NaN</td>\n",
              "      <td>NaN</td>\n",
              "      <td>NaN</td>\n",
              "      <td>NaN</td>\n",
              "      <td>NaN</td>\n",
              "      <td>NaN</td>\n",
              "      <td>NaN</td>\n",
              "      <td>NaN</td>\n",
              "      <td>NaN</td>\n",
              "      <td>NaN</td>\n",
              "      <td>NaN</td>\n",
              "      <td>NaN</td>\n",
              "      <td>...</td>\n",
              "      <td>0</td>\n",
              "      <td>0</td>\n",
              "      <td>0</td>\n",
              "      <td>Male</td>\n",
              "      <td>095ee44a-8fc9-46b6-a561-b1c0606c62f9</td>\n",
              "      <td>1/29/20 13:46</td>\n",
              "      <td>NaN</td>\n",
              "      <td>1/29/20 13:46</td>\n",
              "      <td>NaN</td>\n",
              "      <td>3</td>\n",
              "      <td>CHUCK WASHINGTON</td>\n",
              "      <td>SAN JACINTO</td>\n",
              "      <td>139</td>\n",
              "      <td>095ee44a-8fc9-46b6-a561-b1c0606c62f9</td>\n",
              "      <td>NaN</td>\n",
              "      <td>7BDW</td>\n",
              "      <td>No</td>\n",
              "      <td>NaN</td>\n",
              "      <td>NaN</td>\n",
              "      <td>NaN</td>\n",
              "      <td>NaN</td>\n",
              "      <td>NaN</td>\n",
              "      <td>NaN</td>\n",
              "      <td>Observation</td>\n",
              "      <td>1</td>\n",
              "      <td>0</td>\n",
              "      <td>1</td>\n",
              "      <td>NaN</td>\n",
              "      <td>NaN</td>\n",
              "      <td>1</td>\n",
              "      <td>NaN</td>\n",
              "      <td>NaN</td>\n",
              "      <td>NaN</td>\n",
              "      <td>NaN</td>\n",
              "      <td>NaN</td>\n",
              "      <td>NaN</td>\n",
              "      <td>NaN</td>\n",
              "      <td>NaN</td>\n",
              "      <td>NaN</td>\n",
              "      <td>Observation</td>\n",
              "    </tr>\n",
              "    <tr>\n",
              "      <th>4</th>\n",
              "      <td>164</td>\n",
              "      <td>NaN</td>\n",
              "      <td>C</td>\n",
              "      <td>H</td>\n",
              "      <td>NaN</td>\n",
              "      <td>35.0</td>\n",
              "      <td>No</td>\n",
              "      <td>White,Asian</td>\n",
              "      <td>Male</td>\n",
              "      <td>Pomona</td>\n",
              "      <td>CA</td>\n",
              "      <td>NaN</td>\n",
              "      <td>Yes</td>\n",
              "      <td>NaN</td>\n",
              "      <td>NaN</td>\n",
              "      <td>NaN</td>\n",
              "      <td>Other</td>\n",
              "      <td>Corona police impounded car</td>\n",
              "      <td>No</td>\n",
              "      <td>NaN</td>\n",
              "      <td>NaN</td>\n",
              "      <td>NaN</td>\n",
              "      <td>NaN</td>\n",
              "      <td>NaN</td>\n",
              "      <td>NaN</td>\n",
              "      <td>NaN</td>\n",
              "      <td>NaN</td>\n",
              "      <td>NaN</td>\n",
              "      <td>NaN</td>\n",
              "      <td>NaN</td>\n",
              "      <td>NaN</td>\n",
              "      <td>NaN</td>\n",
              "      <td>NaN</td>\n",
              "      <td>NaN</td>\n",
              "      <td>NaN</td>\n",
              "      <td>NaN</td>\n",
              "      <td>NaN</td>\n",
              "      <td>NaN</td>\n",
              "      <td>Yes</td>\n",
              "      <td>September2001Later</td>\n",
              "      <td>...</td>\n",
              "      <td>0</td>\n",
              "      <td>1</td>\n",
              "      <td>0</td>\n",
              "      <td>Male</td>\n",
              "      <td>5fb21474-5009-433a-8c37-9726230af71c</td>\n",
              "      <td>1/29/20 13:51</td>\n",
              "      <td>NaN</td>\n",
              "      <td>1/29/20 13:51</td>\n",
              "      <td>NaN</td>\n",
              "      <td>2</td>\n",
              "      <td>KAREN SPIEGEL</td>\n",
              "      <td>NORCO</td>\n",
              "      <td>140</td>\n",
              "      <td>5fb21474-5009-433a-8c37-9726230af71c</td>\n",
              "      <td>NaN</td>\n",
              "      <td>473c</td>\n",
              "      <td>Yes</td>\n",
              "      <td>NaN</td>\n",
              "      <td>Yes</td>\n",
              "      <td>Street</td>\n",
              "      <td>NaN</td>\n",
              "      <td>NaN</td>\n",
              "      <td>No</td>\n",
              "      <td>Interview</td>\n",
              "      <td>1</td>\n",
              "      <td>0</td>\n",
              "      <td>1</td>\n",
              "      <td>NaN</td>\n",
              "      <td>NaN</td>\n",
              "      <td>1</td>\n",
              "      <td>NaN</td>\n",
              "      <td>NaN</td>\n",
              "      <td>NaN</td>\n",
              "      <td>NaN</td>\n",
              "      <td>NaN</td>\n",
              "      <td>NaN</td>\n",
              "      <td>NaN</td>\n",
              "      <td>NaN</td>\n",
              "      <td>NaN</td>\n",
              "      <td>Interview</td>\n",
              "    </tr>\n",
              "  </tbody>\n",
              "</table>\n",
              "<p>5 rows × 110 columns</p>\n",
              "</div>"
            ],
            "text/plain": [
              "   ObjectID  GlobalID First_Name_Initial  ... P_x P_y  Household_Survey_Type\n",
              "0       160       NaN                  M  ... NaN NaN              Interview\n",
              "1       161       NaN                  M  ... NaN NaN              Interview\n",
              "2       162       NaN                  J  ... NaN NaN              Interview\n",
              "3       163       NaN                NaN  ... NaN NaN            Observation\n",
              "4       164       NaN                  C  ... NaN NaN              Interview\n",
              "\n",
              "[5 rows x 110 columns]"
            ]
          },
          "metadata": {
            "tags": []
          },
          "execution_count": 31
        }
      ]
    },
    {
      "cell_type": "code",
      "metadata": {
        "id": "1ABRG8mWmC4b",
        "colab": {
          "base_uri": "https://localhost:8080/"
        },
        "outputId": "87b5c794-3a44-44c9-ebc5-1962da738355"
      },
      "source": [
        "from collections import Counter\n",
        "factors = homelessness_data[\"Contributing_Factors\"]\n",
        "factors_other = homelessness_data[\"Contributing_Factors_Other\"]\n",
        "Counter(factors_other).most_common(25)"
      ],
      "execution_count": null,
      "outputs": [
        {
          "output_type": "execute_result",
          "data": {
            "text/plain": [
              "[(nan, 1814),\n",
              " ('Drugs', 16),\n",
              " ('Divorce', 14),\n",
              " ('Family issues', 6),\n",
              " ('Family problems', 5),\n",
              " ('Divorced', 4),\n",
              " ('Car accident', 4),\n",
              " ('Domestic violence', 4),\n",
              " ('Personal choice', 4),\n",
              " ('Bad choices', 3),\n",
              " ('Kicked out', 3),\n",
              " ('Displaced', 3),\n",
              " ('Family passed away', 3),\n",
              " ('Gambling', 3),\n",
              " ('Addiction', 3),\n",
              " ('eviction', 3),\n",
              " ('drug use', 3),\n",
              " ('Family problem', 3),\n",
              " ('Baby not allowed in previous housing', 3),\n",
              " ('Lost home', 2),\n",
              " ('Personal', 2),\n",
              " ('Decline to state', 2),\n",
              " ('Civil rights abuse', 2),\n",
              " ('Wife left', 2),\n",
              " ('Death in family', 2)]"
            ]
          },
          "metadata": {
            "tags": []
          },
          "execution_count": 32
        }
      ]
    },
    {
      "cell_type": "code",
      "metadata": {
        "id": "W1SO71Mhmbkw",
        "colab": {
          "base_uri": "https://localhost:8080/",
          "height": 215
        },
        "outputId": "e2fdd8e6-2b63-4532-b468-3880fb6ff152"
      },
      "source": [
        "factors_text = factors_other.str.cat(sep=' ')\n",
        "wordcloud = WordCloud(stopwords=STOPWORDS).generate(factors_text)\n",
        "plt.imshow(wordcloud, interpolation='bilinear')\n",
        "plt.axis(\"off\")"
      ],
      "execution_count": null,
      "outputs": [
        {
          "output_type": "execute_result",
          "data": {
            "text/plain": [
              "(-0.5, 399.5, 199.5, -0.5)"
            ]
          },
          "metadata": {
            "tags": []
          },
          "execution_count": 33
        },
        {
          "output_type": "display_data",
          "data": {
            "image/png": "[encoded data removed]",
            "text/plain": [
              "<Figure size 432x288 with 1 Axes>"
            ]
          },
          "metadata": {
            "tags": [],
            "needs_background": "light"
          }
        }
      ]
    },
    {
      "cell_type": "markdown",
      "metadata": {
        "id": "8POpklU4dy1a"
      },
      "source": [
        "# Chatbots: some history\n",
        "Regular expressions are so powerful, they can be used creatively to do many things, including making a chatbot.\n",
        "\n",
        "One of the most famous chatbots ever created is one call ELIZA. Try her out: https://web.njit.edu/~ronkowit/eliza.html\n",
        "\n",
        "She's famous because of something called the Turing Test, she almost, for about 5 minutes, beat the test. \n",
        "\n",
        "What is the Turing Test? It's a foundation of Artificial Intelligence. If you've never seen the Imitation Game, you're missing out. It's a great movie about Alan Turing, one of the visionaries behind the creation of computers. He envisioned a \"test\" in which a computer could fool a human and thus reach the status of being \"intelligent\" -- here's a clip of that scene in the movie: https://www.youtube.com/watch?v=lTMEUA6VnJE\n"
      ]
    },
    {
      "cell_type": "markdown",
      "metadata": {
        "id": "GC0QjKaRfeIo"
      },
      "source": [
        "# Chatbots: Chatty the bot\n",
        "\n",
        "Let's make our own chatbot! Let's start with a sample, play with it, and make it better."
      ]
    },
    {
      "cell_type": "code",
      "metadata": {
        "id": "YGIv3YCpflpS",
        "colab": {
          "base_uri": "https://localhost:8080/",
          "height": 698
        },
        "outputId": "3da180e6-3582-4ea2-e88f-15fc0ebf8512"
      },
      "source": [
        "from nltk.chat.util import Chat, reflections\n",
        "\n",
        "reflections = {\n",
        "  \"i am\"       : \"you are\",\n",
        "  \"i was\"      : \"you were\",\n",
        "  \"i\"          : \"you\",\n",
        "  \"i'm\"        : \"you are\",\n",
        "  \"i'd\"        : \"you would\",\n",
        "  \"i've\"       : \"you have\",\n",
        "  \"i'll\"       : \"you will\",\n",
        "  \"my\"         : \"your\",\n",
        "  \"you are\"    : \"I am\",\n",
        "  \"you were\"   : \"I was\",\n",
        "  \"you've\"     : \"I have\",\n",
        "  \"you'll\"     : \"I will\",\n",
        "  \"your\"       : \"my\",\n",
        "  \"yours\"      : \"mine\",\n",
        "  \"you\"        : \"me\",\n",
        "  \"me\"         : \"you\"\n",
        "}\n",
        "\n",
        "pairs = [\n",
        "   [\n",
        "      r\"my name is (.*)\",\n",
        "      [\"Hello %1, How are you today ?\",]\n",
        "   ],\n",
        "   [\n",
        "      r\".* seen (.*)\",\n",
        "      [\"Oh, yea! %1 is the best ever isn't it?\", \"Oh, ew. %1 totally sucked rocks.\", \"Really? You want to talk about %1?!\"]\n",
        "   ],\n",
        "   [\n",
        "      r\"what is your name ?\",\n",
        "      [\"My name is Chatty and I'm a chatbot ?\",]\n",
        "   ],\n",
        "   [\n",
        "      r\"how are you ?\",\n",
        "      [\"I'm doing good\\nHow about You ?\", \"I've been better, but thanks for asking.\", \"I took the vaccine yesterday and I am tired.\"]\n",
        "   ],\n",
        "   [\n",
        "      r\"sorry (.*)\",\n",
        "      [\"Its alright\",\"Its OK, never mind\",\"Iie, doitachimashite\",\"Never apologize (is the stupiest thing I've ever heard) -- don't worry about it.\"]\n",
        "   ],\n",
        "   [\n",
        "      r\"i'm (.*) doing good\",\n",
        "      [\"Nice to hear that\",\"Alright :)\",]\n",
        "   ],\n",
        "   [\n",
        "      r\"hi|hey|hello\",\n",
        "      [\"Hello\", \"Hey there\",]\n",
        "   ],\n",
        "   [\n",
        "      r\"(.*) age?\",\n",
        "      [\"I'm a computer program dude\\nSeriously you are asking me this?\",]\n",
        "        \n",
        "   ],\n",
        "   [\n",
        "      r\"what (.*) want ?\",\n",
        "      [\"Make me an offer I can't refuse\",]\n",
        "   ],\n",
        "   [\n",
        "      r\"(.*) created ?\",\n",
        "      [\"Nagesh created me using Python's NLTK library \",\"top secret ;)\",]\n",
        "   ],\n",
        "   [\n",
        "      r\"(.*) (location|city) ?\",\n",
        "      ['Chennai, Tamil Nadu',]\n",
        "   ],\n",
        "   [\n",
        "      r\"how is weather in (.*)?\",\n",
        "      [\"Weather in %1 is awesome like always\",\"Too hot man here in %1\",\"Too cold man here in %1\",\"Never even heard about %1\"]\n",
        "   ],\n",
        "   [\n",
        "      r\"i work in (.*)?\",\n",
        "      [\"%1 is an Amazing company, I have heard about it. But they are in huge loss these days.\",]\n",
        "   ],\n",
        "   [\n",
        "      r\"(.*)raining in (.*)\",\n",
        "      [\"No rain since last week here in %2\",\"Damn its raining too much here in %2\"]\n",
        "   ],\n",
        "   [\n",
        "      r\"how (.*) health(.*)\",\n",
        "      [\"I'm a computer program, so I'm always healthy \",]\n",
        "   ],\n",
        "    [\n",
        "      r\"who (.*) sportsperson ?\",\n",
        "      [\"Messy\",\"Ronaldo\",\"Roony\"]\n",
        "   ],\n",
        "   [\n",
        "      r\"(.*) (sports|game) ?\",\n",
        "      [\"I'm a very big fan of Football\",]\n",
        "   ],\n",
        "   [\n",
        "      r\"who (.*) (moviestar|actor)?\",\n",
        "      [\"Brad Pitt\", \"Benedict Cumberbatch\"]\n",
        "   ],\n",
        "   [\n",
        "      r\"quit\",\n",
        "      [\"BBye take care. See you soon :) \",\"It was nice talking to you. See you soon :)\"]\n",
        "   ],\n",
        "]\n",
        "    \n",
        "def chatty():\n",
        "   print(\"Hi, I'm Chatty and I chat alot ;)\\nPlease type lowercase English language to start a conversation. Type quit to leave \") #default message at the start\n",
        "   chat = Chat(pairs, reflections)\n",
        "   chat.converse()\n",
        "\n",
        "if __name__ == \"__main__\":\n",
        "   chatty()\n"
      ],
      "execution_count": null,
      "outputs": [
        {
          "output_type": "stream",
          "text": [
            "Hi, I'm Chatty and I chat alot ;)\n",
            "Please type lowercase English language to start a conversation. Type quit to leave \n",
            ">hello\n",
            "Hello\n",
            ">it is raining\n",
            "None\n",
            ">is it going to rain\n",
            "None\n",
            ">is it raining in riverside\n",
            "No rain since last week here in riverside\n"
          ],
          "name": "stdout"
        },
        {
          "output_type": "error",
          "ename": "KeyboardInterrupt",
          "evalue": "ignored",
          "traceback": [
            "\u001b[0;31m---------------------------------------------------------------------------\u001b[0m",
            "\u001b[0;31mKeyboardInterrupt\u001b[0m                         Traceback (most recent call last)",
            "\u001b[0;32m/usr/local/lib/python3.7/dist-packages/ipykernel/kernelbase.py\u001b[0m in \u001b[0;36m_input_request\u001b[0;34m(self, prompt, ident, parent, password)\u001b[0m\n\u001b[1;32m    728\u001b[0m             \u001b[0;32mtry\u001b[0m\u001b[0;34m:\u001b[0m\u001b[0;34m\u001b[0m\u001b[0;34m\u001b[0m\u001b[0m\n\u001b[0;32m--> 729\u001b[0;31m                 \u001b[0mident\u001b[0m\u001b[0;34m,\u001b[0m \u001b[0mreply\u001b[0m \u001b[0;34m=\u001b[0m \u001b[0mself\u001b[0m\u001b[0;34m.\u001b[0m\u001b[0msession\u001b[0m\u001b[0;34m.\u001b[0m\u001b[0mrecv\u001b[0m\u001b[0;34m(\u001b[0m\u001b[0mself\u001b[0m\u001b[0;34m.\u001b[0m\u001b[0mstdin_socket\u001b[0m\u001b[0;34m,\u001b[0m \u001b[0;36m0\u001b[0m\u001b[0;34m)\u001b[0m\u001b[0;34m\u001b[0m\u001b[0;34m\u001b[0m\u001b[0m\n\u001b[0m\u001b[1;32m    730\u001b[0m             \u001b[0;32mexcept\u001b[0m \u001b[0mException\u001b[0m\u001b[0;34m:\u001b[0m\u001b[0;34m\u001b[0m\u001b[0;34m\u001b[0m\u001b[0m\n",
            "\u001b[0;32m/usr/local/lib/python3.7/dist-packages/jupyter_client/session.py\u001b[0m in \u001b[0;36mrecv\u001b[0;34m(self, socket, mode, content, copy)\u001b[0m\n\u001b[1;32m    802\u001b[0m         \u001b[0;32mtry\u001b[0m\u001b[0;34m:\u001b[0m\u001b[0;34m\u001b[0m\u001b[0;34m\u001b[0m\u001b[0m\n\u001b[0;32m--> 803\u001b[0;31m             \u001b[0mmsg_list\u001b[0m \u001b[0;34m=\u001b[0m \u001b[0msocket\u001b[0m\u001b[0;34m.\u001b[0m\u001b[0mrecv_multipart\u001b[0m\u001b[0;34m(\u001b[0m\u001b[0mmode\u001b[0m\u001b[0;34m,\u001b[0m \u001b[0mcopy\u001b[0m\u001b[0;34m=\u001b[0m\u001b[0mcopy\u001b[0m\u001b[0;34m)\u001b[0m\u001b[0;34m\u001b[0m\u001b[0;34m\u001b[0m\u001b[0m\n\u001b[0m\u001b[1;32m    804\u001b[0m         \u001b[0;32mexcept\u001b[0m \u001b[0mzmq\u001b[0m\u001b[0;34m.\u001b[0m\u001b[0mZMQError\u001b[0m \u001b[0;32mas\u001b[0m \u001b[0me\u001b[0m\u001b[0;34m:\u001b[0m\u001b[0;34m\u001b[0m\u001b[0;34m\u001b[0m\u001b[0m\n",
            "\u001b[0;32m/usr/local/lib/python3.7/dist-packages/zmq/sugar/socket.py\u001b[0m in \u001b[0;36mrecv_multipart\u001b[0;34m(self, flags, copy, track)\u001b[0m\n\u001b[1;32m    582\u001b[0m         \"\"\"\n\u001b[0;32m--> 583\u001b[0;31m         \u001b[0mparts\u001b[0m \u001b[0;34m=\u001b[0m \u001b[0;34m[\u001b[0m\u001b[0mself\u001b[0m\u001b[0;34m.\u001b[0m\u001b[0mrecv\u001b[0m\u001b[0;34m(\u001b[0m\u001b[0mflags\u001b[0m\u001b[0;34m,\u001b[0m \u001b[0mcopy\u001b[0m\u001b[0;34m=\u001b[0m\u001b[0mcopy\u001b[0m\u001b[0;34m,\u001b[0m \u001b[0mtrack\u001b[0m\u001b[0;34m=\u001b[0m\u001b[0mtrack\u001b[0m\u001b[0;34m)\u001b[0m\u001b[0;34m]\u001b[0m\u001b[0;34m\u001b[0m\u001b[0;34m\u001b[0m\u001b[0m\n\u001b[0m\u001b[1;32m    584\u001b[0m         \u001b[0;31m# have first part already, only loop while more to receive\u001b[0m\u001b[0;34m\u001b[0m\u001b[0;34m\u001b[0m\u001b[0;34m\u001b[0m\u001b[0m\n",
            "\u001b[0;32mzmq/backend/cython/socket.pyx\u001b[0m in \u001b[0;36mzmq.backend.cython.socket.Socket.recv\u001b[0;34m()\u001b[0m\n",
            "\u001b[0;32mzmq/backend/cython/socket.pyx\u001b[0m in \u001b[0;36mzmq.backend.cython.socket.Socket.recv\u001b[0;34m()\u001b[0m\n",
            "\u001b[0;32mzmq/backend/cython/socket.pyx\u001b[0m in \u001b[0;36mzmq.backend.cython.socket._recv_copy\u001b[0;34m()\u001b[0m\n",
            "\u001b[0;32m/usr/local/lib/python3.7/dist-packages/zmq/backend/cython/checkrc.pxd\u001b[0m in \u001b[0;36mzmq.backend.cython.checkrc._check_rc\u001b[0;34m()\u001b[0m\n",
            "\u001b[0;31mKeyboardInterrupt\u001b[0m: ",
            "\nDuring handling of the above exception, another exception occurred:\n",
            "\u001b[0;31mKeyboardInterrupt\u001b[0m                         Traceback (most recent call last)",
            "\u001b[0;32m<ipython-input-1-34ccf2268001>\u001b[0m in \u001b[0;36m<module>\u001b[0;34m()\u001b[0m\n\u001b[1;32m    106\u001b[0m \u001b[0;34m\u001b[0m\u001b[0m\n\u001b[1;32m    107\u001b[0m \u001b[0;32mif\u001b[0m \u001b[0m__name__\u001b[0m \u001b[0;34m==\u001b[0m \u001b[0;34m\"__main__\"\u001b[0m\u001b[0;34m:\u001b[0m\u001b[0;34m\u001b[0m\u001b[0;34m\u001b[0m\u001b[0m\n\u001b[0;32m--> 108\u001b[0;31m    \u001b[0mchatty\u001b[0m\u001b[0;34m(\u001b[0m\u001b[0;34m)\u001b[0m\u001b[0;34m\u001b[0m\u001b[0;34m\u001b[0m\u001b[0m\n\u001b[0m",
            "\u001b[0;32m<ipython-input-1-34ccf2268001>\u001b[0m in \u001b[0;36mchatty\u001b[0;34m()\u001b[0m\n\u001b[1;32m    103\u001b[0m    \u001b[0mprint\u001b[0m\u001b[0;34m(\u001b[0m\u001b[0;34m\"Hi, I'm Chatty and I chat alot ;)\\nPlease type lowercase English language to start a conversation. Type quit to leave \"\u001b[0m\u001b[0;34m)\u001b[0m \u001b[0;31m#default message at the start\u001b[0m\u001b[0;34m\u001b[0m\u001b[0;34m\u001b[0m\u001b[0m\n\u001b[1;32m    104\u001b[0m    \u001b[0mchat\u001b[0m \u001b[0;34m=\u001b[0m \u001b[0mChat\u001b[0m\u001b[0;34m(\u001b[0m\u001b[0mpairs\u001b[0m\u001b[0;34m,\u001b[0m \u001b[0mreflections\u001b[0m\u001b[0;34m)\u001b[0m\u001b[0;34m\u001b[0m\u001b[0;34m\u001b[0m\u001b[0m\n\u001b[0;32m--> 105\u001b[0;31m    \u001b[0mchat\u001b[0m\u001b[0;34m.\u001b[0m\u001b[0mconverse\u001b[0m\u001b[0;34m(\u001b[0m\u001b[0;34m)\u001b[0m\u001b[0;34m\u001b[0m\u001b[0;34m\u001b[0m\u001b[0m\n\u001b[0m\u001b[1;32m    106\u001b[0m \u001b[0;34m\u001b[0m\u001b[0m\n\u001b[1;32m    107\u001b[0m \u001b[0;32mif\u001b[0m \u001b[0m__name__\u001b[0m \u001b[0;34m==\u001b[0m \u001b[0;34m\"__main__\"\u001b[0m\u001b[0;34m:\u001b[0m\u001b[0;34m\u001b[0m\u001b[0;34m\u001b[0m\u001b[0m\n",
            "\u001b[0;32m/usr/local/lib/python3.7/dist-packages/nltk/chat/util.py\u001b[0m in \u001b[0;36mconverse\u001b[0;34m(self, quit)\u001b[0m\n\u001b[1;32m    115\u001b[0m         \u001b[0;32mwhile\u001b[0m \u001b[0muser_input\u001b[0m \u001b[0;34m!=\u001b[0m \u001b[0mquit\u001b[0m\u001b[0;34m:\u001b[0m\u001b[0;34m\u001b[0m\u001b[0;34m\u001b[0m\u001b[0m\n\u001b[1;32m    116\u001b[0m             \u001b[0muser_input\u001b[0m \u001b[0;34m=\u001b[0m \u001b[0mquit\u001b[0m\u001b[0;34m\u001b[0m\u001b[0;34m\u001b[0m\u001b[0m\n\u001b[0;32m--> 117\u001b[0;31m             \u001b[0;32mtry\u001b[0m\u001b[0;34m:\u001b[0m \u001b[0muser_input\u001b[0m \u001b[0;34m=\u001b[0m \u001b[0minput\u001b[0m\u001b[0;34m(\u001b[0m\u001b[0;34m\">\"\u001b[0m\u001b[0;34m)\u001b[0m\u001b[0;34m\u001b[0m\u001b[0;34m\u001b[0m\u001b[0m\n\u001b[0m\u001b[1;32m    118\u001b[0m             \u001b[0;32mexcept\u001b[0m \u001b[0mEOFError\u001b[0m\u001b[0;34m:\u001b[0m\u001b[0;34m\u001b[0m\u001b[0;34m\u001b[0m\u001b[0m\n\u001b[1;32m    119\u001b[0m                 \u001b[0mprint\u001b[0m\u001b[0;34m(\u001b[0m\u001b[0muser_input\u001b[0m\u001b[0;34m)\u001b[0m\u001b[0;34m\u001b[0m\u001b[0;34m\u001b[0m\u001b[0m\n",
            "\u001b[0;32m/usr/local/lib/python3.7/dist-packages/ipykernel/kernelbase.py\u001b[0m in \u001b[0;36mraw_input\u001b[0;34m(self, prompt)\u001b[0m\n\u001b[1;32m    702\u001b[0m             \u001b[0mself\u001b[0m\u001b[0;34m.\u001b[0m\u001b[0m_parent_ident\u001b[0m\u001b[0;34m,\u001b[0m\u001b[0;34m\u001b[0m\u001b[0;34m\u001b[0m\u001b[0m\n\u001b[1;32m    703\u001b[0m             \u001b[0mself\u001b[0m\u001b[0;34m.\u001b[0m\u001b[0m_parent_header\u001b[0m\u001b[0;34m,\u001b[0m\u001b[0;34m\u001b[0m\u001b[0;34m\u001b[0m\u001b[0m\n\u001b[0;32m--> 704\u001b[0;31m             \u001b[0mpassword\u001b[0m\u001b[0;34m=\u001b[0m\u001b[0;32mFalse\u001b[0m\u001b[0;34m,\u001b[0m\u001b[0;34m\u001b[0m\u001b[0;34m\u001b[0m\u001b[0m\n\u001b[0m\u001b[1;32m    705\u001b[0m         )\n\u001b[1;32m    706\u001b[0m \u001b[0;34m\u001b[0m\u001b[0m\n",
            "\u001b[0;32m/usr/local/lib/python3.7/dist-packages/ipykernel/kernelbase.py\u001b[0m in \u001b[0;36m_input_request\u001b[0;34m(self, prompt, ident, parent, password)\u001b[0m\n\u001b[1;32m    732\u001b[0m             \u001b[0;32mexcept\u001b[0m \u001b[0mKeyboardInterrupt\u001b[0m\u001b[0;34m:\u001b[0m\u001b[0;34m\u001b[0m\u001b[0;34m\u001b[0m\u001b[0m\n\u001b[1;32m    733\u001b[0m                 \u001b[0;31m# re-raise KeyboardInterrupt, to truncate traceback\u001b[0m\u001b[0;34m\u001b[0m\u001b[0;34m\u001b[0m\u001b[0;34m\u001b[0m\u001b[0m\n\u001b[0;32m--> 734\u001b[0;31m                 \u001b[0;32mraise\u001b[0m \u001b[0mKeyboardInterrupt\u001b[0m\u001b[0;34m\u001b[0m\u001b[0;34m\u001b[0m\u001b[0m\n\u001b[0m\u001b[1;32m    735\u001b[0m             \u001b[0;32melse\u001b[0m\u001b[0;34m:\u001b[0m\u001b[0;34m\u001b[0m\u001b[0;34m\u001b[0m\u001b[0m\n\u001b[1;32m    736\u001b[0m                 \u001b[0;32mbreak\u001b[0m\u001b[0;34m\u001b[0m\u001b[0;34m\u001b[0m\u001b[0m\n",
            "\u001b[0;31mKeyboardInterrupt\u001b[0m: "
          ]
        }
      ]
    }
  ]
}