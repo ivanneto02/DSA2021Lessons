{
  "nbformat": 4,
  "nbformat_minor": 0,
  "metadata": {
    "accelerator": "GPU",
    "colab": {
      "name": "Day 5 Lesson - Image Analysis Using Machine Learning",
      "provenance": [],
      "collapsed_sections": []
    },
    "kernelspec": {
      "display_name": "Python 3",
      "name": "python3"
    },
    "language_info": {
      "name": "python"
    }
  },
  "cells": [
    {
      "cell_type": "markdown",
      "metadata": {
        "id": "DhU0Wv546WdH"
      },
      "source": [
        "# Image Analysis Using Machine Learning\n",
        "\n",
        "## What is Machine Learning?\n",
        "\n",
        "Most computer programs and algorithms come down to making decision problems. Do I turn left now? Is that a cat or is it a donkey?\n",
        "\n",
        "Some of these problems can be solved by humans writing programs, but some of them are too complicated to even know where to begin, such as flying a helicopter or driving a car. There are too many rules and details to capture and encode in a human-writen program. In some of these cases, it is often better to have a machine observe, learn and generate their own models or algorithms to solve these complex problems.\n",
        "\n",
        "Machine learning is exactly that: having a computer decide problems that are too complex for a human to encode by hand.\n",
        "\n",
        "<img src=\"https://www.expert.ai/wp-content/uploads/2017/03/machine-learning-definition.jpeg\" width=\"100%\"/>\n",
        "\n",
        "\n",
        "## What problems can Machine Learning solve?\n",
        "\n",
        "Machine learning can solve pretty much any problem that requires decision making, which is just about every problem that is important. The trick is to have enough observations for it to adequately learn an adequate decision model. Millions of hours of actual human driving time has gone into training machines to drive.\n",
        "\n",
        "<img src=\"https://media.wired.com/photos/5e7b7a0fadfa9d0008e095b2/191:100/w_2400,h_1256,c_limit/Transpo-selfdrivingcar-1158000221.jpg\" width=\"40%\"/>\n",
        "\n",
        "\n",
        "Many of these problems fall into buckets, or types of modelling problems. For example, \"is it a cat or a donkey\" is a classification problem, whereas \"turning left\" can be modeled as a regression problem depending on how hard of a left to take.\n",
        "\n",
        "<img src=\"https://i.pinimg.com/originals/6d/ba/45/6dba45132268f90b6b53722052318457.jpg\" width=\"40%\"/>\n"
      ]
    },
    {
      "cell_type": "markdown",
      "metadata": {
        "id": "mNK2XI2i_HXS"
      },
      "source": [
        "# Handwriting Analysis: predicting digits\n",
        "We're going to train a robot to read your handwriting. We'll keep it simple, and have the machine guess what number you draw. This is a classification problem. There are 10 digits (0 through 9) or classes we want the computer to guess correctly. The idea sort of goes like this:\n",
        "\n",
        "\n",
        "\n",
        "1.   Dear Computer, please study these examples of hand-written digits:\n",
        "\n",
        "<img src=\"https://i1.wp.com/dataaspirant.com/wp-content/uploads/2017/05/Mnist-database-hand-written-digits.png?resize=530%2C297\" width=\"50%\"/>\n",
        "\n",
        "2.   Now, make a guess. What are these?\n",
        "\n",
        "<img src=\"https://blog.otoro.net/assets/20160401/png/mnist_input_0.png\" width=\"15%\"/>\n",
        "\n",
        "That's a FIVE!\n",
        "\n",
        "<img src=\"https://miro.medium.com/max/282/1*xpszL7jJrV5UTV7Xa-fgWQ.png\" width=\"15%\"/>\n",
        "\n",
        "That's a FOUR!\n",
        "\n",
        "<img src=\"https://svgsilh.com/svg_v2/3023921.svg\" width=\"15%\"/>\n",
        "\n",
        "That's a SEVEN!\n",
        "\n",
        ".... oops! Is it?"
      ]
    },
    {
      "cell_type": "markdown",
      "metadata": {
        "id": "mQOo2J88_evf"
      },
      "source": [
        "## Install libraries\n",
        "In order to create this machine learning model, we will only use 2 libraries! Each library has a lot of tools for our disposal. \n",
        "\n",
        "The important Machine Learning libraries are:\n",
        "\n",
        "*   sklearn - common package of machine learning tools (\"sci-kit learn\")\n",
        "*   tensorflow - a library from Google for advanced machine learning\n",
        "\n",
        "**Tidbit factoid**: a *tensor* is a mathematical structure, important in linear algebra, that allows you to manipulate and compute very large \"shapes of data\" efficiently and smoothly. It's quite complex and advanced math, but you can read more about it if you Google it. We're just going to use it. TensorFlow has become really popular since about 2015."
      ]
    },
    {
      "cell_type": "code",
      "metadata": {
        "colab": {
          "base_uri": "https://localhost:8080/"
        },
        "id": "yuDIgRJ__hyi",
        "outputId": "e5766f40-66c9-41d8-b05b-1438fadbb381"
      },
      "source": [
        "!pip install sklearn\n",
        "!pip install tensorflow\n",
        "!pip install matplotlib\n",
        "!pip install numpy"
      ],
      "execution_count": null,
      "outputs": [
        {
          "output_type": "stream",
          "text": [
            "Requirement already satisfied: sklearn in /usr/local/lib/python3.7/dist-packages (0.0)\n",
            "Requirement already satisfied: scikit-learn in /usr/local/lib/python3.7/dist-packages (from sklearn) (0.22.2.post1)\n",
            "Requirement already satisfied: numpy>=1.11.0 in /usr/local/lib/python3.7/dist-packages (from scikit-learn->sklearn) (1.19.5)\n",
            "Requirement already satisfied: joblib>=0.11 in /usr/local/lib/python3.7/dist-packages (from scikit-learn->sklearn) (1.0.1)\n",
            "Requirement already satisfied: scipy>=0.17.0 in /usr/local/lib/python3.7/dist-packages (from scikit-learn->sklearn) (1.4.1)\n",
            "Requirement already satisfied: tensorflow in /usr/local/lib/python3.7/dist-packages (2.5.0)\n",
            "Requirement already satisfied: google-pasta~=0.2 in /usr/local/lib/python3.7/dist-packages (from tensorflow) (0.2.0)\n",
            "Requirement already satisfied: grpcio~=1.34.0 in /usr/local/lib/python3.7/dist-packages (from tensorflow) (1.34.1)\n",
            "Requirement already satisfied: keras-preprocessing~=1.1.2 in /usr/local/lib/python3.7/dist-packages (from tensorflow) (1.1.2)\n",
            "Requirement already satisfied: keras-nightly~=2.5.0.dev in /usr/local/lib/python3.7/dist-packages (from tensorflow) (2.5.0.dev2021032900)\n",
            "Requirement already satisfied: wheel~=0.35 in /usr/local/lib/python3.7/dist-packages (from tensorflow) (0.36.2)\n",
            "Requirement already satisfied: opt-einsum~=3.3.0 in /usr/local/lib/python3.7/dist-packages (from tensorflow) (3.3.0)\n",
            "Requirement already satisfied: tensorflow-estimator<2.6.0,>=2.5.0rc0 in /usr/local/lib/python3.7/dist-packages (from tensorflow) (2.5.0)\n",
            "Requirement already satisfied: astunparse~=1.6.3 in /usr/local/lib/python3.7/dist-packages (from tensorflow) (1.6.3)\n",
            "Requirement already satisfied: protobuf>=3.9.2 in /usr/local/lib/python3.7/dist-packages (from tensorflow) (3.17.3)\n",
            "Requirement already satisfied: absl-py~=0.10 in /usr/local/lib/python3.7/dist-packages (from tensorflow) (0.12.0)\n",
            "Requirement already satisfied: gast==0.4.0 in /usr/local/lib/python3.7/dist-packages (from tensorflow) (0.4.0)\n",
            "Requirement already satisfied: tensorboard~=2.5 in /usr/local/lib/python3.7/dist-packages (from tensorflow) (2.5.0)\n",
            "Requirement already satisfied: h5py~=3.1.0 in /usr/local/lib/python3.7/dist-packages (from tensorflow) (3.1.0)\n",
            "Requirement already satisfied: typing-extensions~=3.7.4 in /usr/local/lib/python3.7/dist-packages (from tensorflow) (3.7.4.3)\n",
            "Requirement already satisfied: six~=1.15.0 in /usr/local/lib/python3.7/dist-packages (from tensorflow) (1.15.0)\n",
            "Requirement already satisfied: termcolor~=1.1.0 in /usr/local/lib/python3.7/dist-packages (from tensorflow) (1.1.0)\n",
            "Requirement already satisfied: wrapt~=1.12.1 in /usr/local/lib/python3.7/dist-packages (from tensorflow) (1.12.1)\n",
            "Requirement already satisfied: numpy~=1.19.2 in /usr/local/lib/python3.7/dist-packages (from tensorflow) (1.19.5)\n",
            "Requirement already satisfied: flatbuffers~=1.12.0 in /usr/local/lib/python3.7/dist-packages (from tensorflow) (1.12)\n",
            "Requirement already satisfied: cached-property in /usr/local/lib/python3.7/dist-packages (from h5py~=3.1.0->tensorflow) (1.5.2)\n",
            "Requirement already satisfied: google-auth<2,>=1.6.3 in /usr/local/lib/python3.7/dist-packages (from tensorboard~=2.5->tensorflow) (1.32.1)\n",
            "Requirement already satisfied: werkzeug>=0.11.15 in /usr/local/lib/python3.7/dist-packages (from tensorboard~=2.5->tensorflow) (1.0.1)\n",
            "Requirement already satisfied: markdown>=2.6.8 in /usr/local/lib/python3.7/dist-packages (from tensorboard~=2.5->tensorflow) (3.3.4)\n",
            "Requirement already satisfied: tensorboard-data-server<0.7.0,>=0.6.0 in /usr/local/lib/python3.7/dist-packages (from tensorboard~=2.5->tensorflow) (0.6.1)\n",
            "Requirement already satisfied: tensorboard-plugin-wit>=1.6.0 in /usr/local/lib/python3.7/dist-packages (from tensorboard~=2.5->tensorflow) (1.8.0)\n",
            "Requirement already satisfied: setuptools>=41.0.0 in /usr/local/lib/python3.7/dist-packages (from tensorboard~=2.5->tensorflow) (57.2.0)\n",
            "Requirement already satisfied: requests<3,>=2.21.0 in /usr/local/lib/python3.7/dist-packages (from tensorboard~=2.5->tensorflow) (2.23.0)\n",
            "Requirement already satisfied: google-auth-oauthlib<0.5,>=0.4.1 in /usr/local/lib/python3.7/dist-packages (from tensorboard~=2.5->tensorflow) (0.4.4)\n",
            "Requirement already satisfied: rsa<5,>=3.1.4 in /usr/local/lib/python3.7/dist-packages (from google-auth<2,>=1.6.3->tensorboard~=2.5->tensorflow) (4.7.2)\n",
            "Requirement already satisfied: cachetools<5.0,>=2.0.0 in /usr/local/lib/python3.7/dist-packages (from google-auth<2,>=1.6.3->tensorboard~=2.5->tensorflow) (4.2.2)\n",
            "Requirement already satisfied: pyasn1-modules>=0.2.1 in /usr/local/lib/python3.7/dist-packages (from google-auth<2,>=1.6.3->tensorboard~=2.5->tensorflow) (0.2.8)\n",
            "Requirement already satisfied: requests-oauthlib>=0.7.0 in /usr/local/lib/python3.7/dist-packages (from google-auth-oauthlib<0.5,>=0.4.1->tensorboard~=2.5->tensorflow) (1.3.0)\n",
            "Requirement already satisfied: importlib-metadata in /usr/local/lib/python3.7/dist-packages (from markdown>=2.6.8->tensorboard~=2.5->tensorflow) (4.6.1)\n",
            "Requirement already satisfied: pyasn1<0.5.0,>=0.4.6 in /usr/local/lib/python3.7/dist-packages (from pyasn1-modules>=0.2.1->google-auth<2,>=1.6.3->tensorboard~=2.5->tensorflow) (0.4.8)\n",
            "Requirement already satisfied: chardet<4,>=3.0.2 in /usr/local/lib/python3.7/dist-packages (from requests<3,>=2.21.0->tensorboard~=2.5->tensorflow) (3.0.4)\n",
            "Requirement already satisfied: urllib3!=1.25.0,!=1.25.1,<1.26,>=1.21.1 in /usr/local/lib/python3.7/dist-packages (from requests<3,>=2.21.0->tensorboard~=2.5->tensorflow) (1.24.3)\n",
            "Requirement already satisfied: idna<3,>=2.5 in /usr/local/lib/python3.7/dist-packages (from requests<3,>=2.21.0->tensorboard~=2.5->tensorflow) (2.10)\n",
            "Requirement already satisfied: certifi>=2017.4.17 in /usr/local/lib/python3.7/dist-packages (from requests<3,>=2.21.0->tensorboard~=2.5->tensorflow) (2021.5.30)\n",
            "Requirement already satisfied: oauthlib>=3.0.0 in /usr/local/lib/python3.7/dist-packages (from requests-oauthlib>=0.7.0->google-auth-oauthlib<0.5,>=0.4.1->tensorboard~=2.5->tensorflow) (3.1.1)\n",
            "Requirement already satisfied: zipp>=0.5 in /usr/local/lib/python3.7/dist-packages (from importlib-metadata->markdown>=2.6.8->tensorboard~=2.5->tensorflow) (3.5.0)\n",
            "Requirement already satisfied: matplotlib in /usr/local/lib/python3.7/dist-packages (3.2.2)\n",
            "Requirement already satisfied: numpy>=1.11 in /usr/local/lib/python3.7/dist-packages (from matplotlib) (1.19.5)\n",
            "Requirement already satisfied: kiwisolver>=1.0.1 in /usr/local/lib/python3.7/dist-packages (from matplotlib) (1.3.1)\n",
            "Requirement already satisfied: python-dateutil>=2.1 in /usr/local/lib/python3.7/dist-packages (from matplotlib) (2.8.1)\n",
            "Requirement already satisfied: cycler>=0.10 in /usr/local/lib/python3.7/dist-packages (from matplotlib) (0.10.0)\n",
            "Requirement already satisfied: pyparsing!=2.0.4,!=2.1.2,!=2.1.6,>=2.0.1 in /usr/local/lib/python3.7/dist-packages (from matplotlib) (2.4.7)\n",
            "Requirement already satisfied: six in /usr/local/lib/python3.7/dist-packages (from cycler>=0.10->matplotlib) (1.15.0)\n",
            "Requirement already satisfied: numpy in /usr/local/lib/python3.7/dist-packages (1.19.5)\n"
          ],
          "name": "stdout"
        }
      ]
    },
    {
      "cell_type": "markdown",
      "metadata": {
        "id": "wx3YVA0k_KOQ"
      },
      "source": [
        "## Make imports"
      ]
    },
    {
      "cell_type": "code",
      "metadata": {
        "id": "3e6AvVug_OLf"
      },
      "source": [
        "# Sklearn imports - used to load database\n",
        "from sklearn import datasets\n",
        "\n",
        "# Keras imports - used to train the model\n",
        "import tensorflow as tf\n",
        "from tensorflow import keras\n",
        "\n",
        "# Plotting libraries\n",
        "import matplotlib.pyplot as plt\n",
        "# Set plots to be inline\n",
        "%matplotlib inline\n",
        "\n",
        "# Numpy!\n",
        "import numpy as np"
      ],
      "execution_count": null,
      "outputs": []
    },
    {
      "cell_type": "markdown",
      "metadata": {
        "id": "9G9ZiIW8FmZb"
      },
      "source": [
        "## Connect Google Drive"
      ]
    },
    {
      "cell_type": "code",
      "metadata": {
        "colab": {
          "base_uri": "https://localhost:8080/"
        },
        "id": "nJeDXKBXF3Mf",
        "outputId": "4c6f71fe-0097-4672-81a6-d674692cfd51"
      },
      "source": [
        "from google.colab import drive\n",
        "drive.mount('/content/drive/')"
      ],
      "execution_count": null,
      "outputs": [
        {
          "output_type": "stream",
          "text": [
            "Mounted at /content/drive/\n"
          ],
          "name": "stdout"
        }
      ]
    },
    {
      "cell_type": "markdown",
      "metadata": {
        "id": "3EVyXAf9_qZI"
      },
      "source": [
        "## Image plotting function\n",
        "\n",
        "We will use a dataset of 8x8 images of number 0 - 9.\n",
        "\n",
        "`plot_image_matrix()` will simply plot images on a (rows, cols) grid to show what our dataset looks like. It is important to visualize our dataset so we know what to pass to our different Keras functions."
      ]
    },
    {
      "cell_type": "code",
      "metadata": {
        "id": "pAwG8z8yAPyL"
      },
      "source": [
        "def plot_image_matrix(images, cols, rows):\n",
        "    '''Displays the images in matrix form (9x9 grid)'''\n",
        "\n",
        "    grid_size = cols * rows\n",
        "\n",
        "    images = images[:grid_size]\n",
        "\n",
        "    fig = plt.figure()\n",
        "    for n, image in enumerate(images):\n",
        "      a = fig.add_subplot(3, np.ceil(grid_size/float(3)), n + 1)\n",
        "      plt.imshow(image, cmap='gray')\n",
        "      a.set_title('image of: ' + str(n))\n",
        "\n",
        "    fig.tight_layout(pad=0.04)\n",
        "    fig.set_size_inches(np.array(fig.get_size_inches()) * grid_size//5)\n",
        "    plt.show()"
      ],
      "execution_count": null,
      "outputs": []
    },
    {
      "cell_type": "markdown",
      "metadata": {
        "id": "916jKGGuBMxn"
      },
      "source": [
        "# Lets take a look at our data\n",
        "\n",
        "We plot nine of our images in a 3 x 3 grid"
      ]
    },
    {
      "cell_type": "code",
      "metadata": {
        "colab": {
          "base_uri": "https://localhost:8080/",
          "height": 509
        },
        "id": "yBWZIa-r_0Gq",
        "outputId": "4020c6cd-addc-4ccb-f222-81e17a61f7f5"
      },
      "source": [
        "# Load database for initial analysis\n",
        "digits = datasets.load_digits()\n",
        "\n",
        "# Data used to train our Machine Learning model\n",
        "x_train = digits.data    # Contains samples\n",
        "y_train = digits.target  # Contains labels\n",
        "\n",
        "# Plot images\n",
        "plot_image_matrix(digits.images, 3, 3)"
      ],
      "execution_count": null,
      "outputs": [
        {
          "output_type": "display_data",
          "data": {
            "image/png": "[encoded data removed]",
            "text/plain": [
              "<Figure size 720x504 with 9 Axes>"
            ]
          },
          "metadata": {
            "tags": [],
            "needs_background": "light"
          }
        }
      ]
    },
    {
      "cell_type": "markdown",
      "metadata": {
        "id": "44alpI5FWLwy"
      },
      "source": [
        "Notice that our data contains the images, and above it, number that the image is supposed to represent. This is called **labeled data** where each sample (image) has a corresponding label (the number it represents). Labeled data is crucial for supervised learning which is what we are using."
      ]
    },
    {
      "cell_type": "markdown",
      "metadata": {
        "id": "JV9niMAPCe0J"
      },
      "source": [
        "We print the shape of our our data to get a better idea of what we are working with."
      ]
    },
    {
      "cell_type": "code",
      "metadata": {
        "colab": {
          "base_uri": "https://localhost:8080/"
        },
        "id": "-ZsIQ3K9CncI",
        "outputId": "cc3d5e8e-bcbd-45e4-f31d-769f9624d135"
      },
      "source": [
        "print('x_train shape:', x_train.shape)\n",
        "print('y_train shape:', y_train.shape)"
      ],
      "execution_count": null,
      "outputs": [
        {
          "output_type": "stream",
          "text": [
            "x_train shape: (1797, 64)\n",
            "y_train shape: (1797,)\n"
          ],
          "name": "stdout"
        }
      ]
    },
    {
      "cell_type": "markdown",
      "metadata": {
        "id": "SBXsRKBCZl1p"
      },
      "source": [
        "![dataShapes.png](data:image/png;base64,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)\n",
        "\n",
        "Because our images are 8 pixels by 8 pixels, each image contains a total of 64 pixels. Our data contains 1797 images."
      ]
    },
    {
      "cell_type": "markdown",
      "metadata": {
        "id": "9E1b4DVPDfHB"
      },
      "source": [
        "## How can our computer learn to classify these images?\n",
        "\n",
        "In order to teach computers to do learn and complete this daunting task on their own, we pull inspiration from our own brains!\n",
        "\n",
        "<img src=\"https://qbi.uq.edu.au/files/24323/Axon-neuron-brain-QBI.jpg\" width=\"50%\"/>\n",
        "\n",
        "Our brain has an average of 86 Billion of these neurons connected together into a large network!\n",
        "\n",
        "<img src=\"https://4cawmi2va33i3w6dek1d7y1m-wpengine.netdna-ssl.com/wp-content/uploads/2018/12/2.0.jpeg\" width=\"50%\"/>\n",
        "\n",
        "\n",
        "\n",
        "When trying to create intelligent machines, Computer scientists often attempt to mimic our brain by creating Artificial Neural Networks (ANNs)\n",
        "\n",
        "<img src=\"https://miro.medium.com/max/2500/1*tWvofX1zZZnIHyHs-nKAfA.png\" width=\"50%\"/>\n"
      ]
    },
    {
      "cell_type": "markdown",
      "metadata": {
        "id": "DcZn9YY0E_pb"
      },
      "source": [
        "Similar to human and animals, machines learn from experience. As more and more images are passed into this artificial neural network, it begins to learn from its experience, becoming better at the task at hand. In general, the more data you have, the more experience the machine can get and the more it will learn."
      ]
    },
    {
      "cell_type": "markdown",
      "metadata": {
        "id": "TytbAAmK27dR"
      },
      "source": [
        "# Building our Model\n",
        "\n",
        "\n",
        "We need to make our neural network to train our model to learn the digits data. We will need this to predict what new data is (categorize it as 0 - 9).\n",
        "\n",
        "The `Model.summary()` function gives a short view of what the model looks like. You do not have to worry about what trainable parameters are for this lesson.\n",
        "\n",
        "The `keras.utils.plot_model()` function saves your model as an image in a specified location in your drive or computer.\n",
        "\n",
        "https://playground.tensorflow.org/ - You can play around with neural networks and observe what the outcomes are for different types of data!"
      ]
    },
    {
      "cell_type": "code",
      "metadata": {
        "colab": {
          "base_uri": "https://localhost:8080/",
          "height": 341
        },
        "id": "lOlRoaK3D_Nk",
        "outputId": "e5960579-2927-4ee5-ca1a-ad73865eb706"
      },
      "source": [
        "# Make layers\n",
        "x_in = keras.Input(shape=(64,), name='digits')\n",
        "x = keras.layers.Dense(512, activation='relu', name='dense_1')(x_in)\n",
        "x = keras.layers.Dense(512, activation='relu', name='dense_2')(x)\n",
        "x = keras.layers.Dense(512, activation='relu', name='dense_3')(x)\n",
        "x_out = keras.layers.Dense(10, activation='softmax', name='softmax')(x)\n",
        "\n",
        "# Make a model\n",
        "model = keras.Model(inputs=x_in, outputs=x_out)\n",
        "\n",
        "model.summary()\n",
        "\n",
        "'''This function is only for demonstration and should not be run'''\n",
        "# * * * * * * * * * * * * * * * * * * * * #\n",
        "# Plot the model to visualize it. We will # \n",
        "# * * * * * * * * * * * * * * * * * * * * #\n",
        "# tf.keras.utils.plot_model(\n",
        "#     model,\n",
        "#     to_file=\"my_model.png\",\n",
        "#     show_shapes=False,\n",
        "#     show_dtype=False,\n",
        "#     show_layer_names=True,\n",
        "#     rankdir=\"TB\",\n",
        "#     expand_nested=False,\n",
        "#     dpi=96,\n",
        "# )\n",
        "# "
      ],
      "execution_count": null,
      "outputs": [
        {
          "output_type": "stream",
          "text": [
            "Model: \"model\"\n",
            "_________________________________________________________________\n",
            "Layer (type)                 Output Shape              Param #   \n",
            "=================================================================\n",
            "digits (InputLayer)          [(None, 64)]              0         \n",
            "_________________________________________________________________\n",
            "dense_1 (Dense)              (None, 512)               33280     \n",
            "_________________________________________________________________\n",
            "dense_2 (Dense)              (None, 512)               262656    \n",
            "_________________________________________________________________\n",
            "dense_3 (Dense)              (None, 512)               262656    \n",
            "_________________________________________________________________\n",
            "softmax (Dense)              (None, 10)                5130      \n",
            "=================================================================\n",
            "Total params: 563,722\n",
            "Trainable params: 563,722\n",
            "Non-trainable params: 0\n",
            "_________________________________________________________________\n"
          ],
          "name": "stdout"
        },
        {
          "output_type": "execute_result",
          "data": {
            "application/vnd.google.colaboratory.intrinsic+json": {
              "type": "string"
            },
            "text/plain": [
              "'This function is only for demonstration and should not be run'"
            ]
          },
          "metadata": {
            "tags": []
          },
          "execution_count": 7
        }
      ]
    },
    {
      "cell_type": "markdown",
      "metadata": {
        "id": "afR_PVP0EZMz"
      },
      "source": [
        "Here is what the `plot_model()` function would have saved if the function was run:"
      ]
    },
    {
      "cell_type": "markdown",
      "metadata": {
        "id": "15WoPQeTIDE-"
      },
      "source": [
        "digits: input layer; where our images are passed into the neural network\n",
        "\n",
        "dense_1: the first layer of neurons (nodes)\n",
        "\n",
        "dense_2: the second layer of neurons (nodes)\n",
        "\n",
        "dense_3: the third layer of neurons (nodes)\n",
        "\n",
        "softmax: The final layer; what will categorize our data as 0 - 9\n"
      ]
    },
    {
      "cell_type": "markdown",
      "metadata": {
        "id": "d2jM8jJ_Iwk8"
      },
      "source": [
        "## Adjusting hyperparameters\n",
        "\n",
        "You don't need to know exactly what these do yet, BUT these are important for training the model, and directly affect the outcome of your model as well"
      ]
    },
    {
      "cell_type": "code",
      "metadata": {
        "id": "Ss0LbazpI6O5"
      },
      "source": [
        "# Hyperparameters\n",
        "epochs = 40\n",
        "batch_size = 128\n",
        "validation_split = 0.2\n",
        "test_split = 0.1\n",
        "\n",
        "# Will be used later\n",
        "validation_size = int(len(x_train) * validation_split)\n",
        "test_size = int(len(x_train) * test_split)"
      ],
      "execution_count": null,
      "outputs": []
    },
    {
      "cell_type": "markdown",
      "metadata": {
        "id": "nNbYAFLGJEa7"
      },
      "source": [
        "## Making test and validation data sets\n",
        "\n",
        "We want our model to be able to **generalize** to new data coming in. So, we need to test our model in real time, as it trains. This is so we can make it better able to generalize.\n",
        "\n",
        "We will be making what are called **testing** and **validation** data sets. These sets are simply splitting the **training** data set into small parts.\n",
        "\n",
        "The `validation_split` variable that you see in the above code block splits the training data set into two sets of 80% and 20%. We can choose any validation split we want, but we also need enough training data to train our model effectively. Typically 20% validation split is what is chosen."
      ]
    },
    {
      "cell_type": "code",
      "metadata": {
        "colab": {
          "base_uri": "https://localhost:8080/"
        },
        "id": "0ksXpv0rJsPQ",
        "outputId": "9c423cd8-d7c4-41d1-99f4-36edd946a434"
      },
      "source": [
        "print('total size:', len(x_train))\n",
        "\n",
        "# Test data\n",
        "x_test = x_train[:test_size]\n",
        "y_test = y_train[:test_size]\n",
        "x_train, y_train = x_train[test_size:], y_train[test_size:] # Update x_train and y_train\n",
        "print('test size:', len(x_test))\n",
        "\n",
        "# Validation data\n",
        "x_val = x_train[:validation_size]\n",
        "y_val = y_train[:validation_size]\n",
        "print('validation size:', len(x_val))\n",
        "\n",
        "# Final training data\n",
        "x_train, y_train = x_train[validation_size:], y_train[validation_size:]\n",
        "print('train size:', len(x_train))"
      ],
      "execution_count": null,
      "outputs": [
        {
          "output_type": "stream",
          "text": [
            "total size: 1797\n",
            "test size: 179\n",
            "validation size: 359\n",
            "train size: 1259\n"
          ],
          "name": "stdout"
        }
      ]
    },
    {
      "cell_type": "markdown",
      "metadata": {
        "id": "I33knGf9JxqA"
      },
      "source": [
        "## Compiling our model\n",
        "\n",
        "This step is very important. It is simply gathering all of our layers and making a single **object** that we will use to train our neural network."
      ]
    },
    {
      "cell_type": "code",
      "metadata": {
        "id": "SitIPEI0KK6t"
      },
      "source": [
        "# Compile model\n",
        "model.compile(\n",
        "    # The optimizer - makes training faster\n",
        "    optimizer='rmsprop',\n",
        "\n",
        "    # Loss function to minimize - do not worry about this for now\n",
        "    loss = keras.losses.SparseCategoricalCrossentropy(),\n",
        "\n",
        "    # List of metrics to monitor - functions that will determine how good our model is at generalizing\n",
        "    metrics = [keras.metrics.SparseCategoricalAccuracy()],\n",
        ")"
      ],
      "execution_count": null,
      "outputs": []
    },
    {
      "cell_type": "markdown",
      "metadata": {
        "id": "QNrGeuBzKbsz"
      },
      "source": [
        "# Fitting the model\n",
        "\n",
        "This is where the \"magic\" happens. Here our model will train on the data to minimize the loss function. While you do not need to worry about what this means for the moment, just think of this step as the model \"learning\" the data in order to make predictions later on."
      ]
    },
    {
      "cell_type": "code",
      "metadata": {
        "colab": {
          "base_uri": "https://localhost:8080/"
        },
        "id": "t4m2ctcwLXQ6",
        "outputId": "18c39d6b-8a66-4153-d962-a55eed2eb9b8"
      },
      "source": [
        "# Fit model\n",
        "history = model.fit(\n",
        "    x = x_train,\n",
        "    y = y_train,\n",
        "    batch_size = batch_size,\n",
        "    epochs = epochs,\n",
        "    validation_data = (x_val, y_val),\n",
        ")"
      ],
      "execution_count": null,
      "outputs": [
        {
          "output_type": "stream",
          "text": [
            "Epoch 1/40\n",
            "10/10 [==============================] - 3s 28ms/step - loss: 2.4092 - sparse_categorical_accuracy: 0.5711 - val_loss: 0.5786 - val_sparse_categorical_accuracy: 0.8357\n",
            "Epoch 2/40\n",
            "10/10 [==============================] - 0s 7ms/step - loss: 0.1912 - sparse_categorical_accuracy: 0.9404 - val_loss: 0.2415 - val_sparse_categorical_accuracy: 0.9220\n",
            "Epoch 3/40\n",
            "10/10 [==============================] - 0s 7ms/step - loss: 0.1250 - sparse_categorical_accuracy: 0.9611 - val_loss: 0.2541 - val_sparse_categorical_accuracy: 0.8997\n",
            "Epoch 4/40\n",
            "10/10 [==============================] - 0s 7ms/step - loss: 0.0359 - sparse_categorical_accuracy: 0.9921 - val_loss: 0.2016 - val_sparse_categorical_accuracy: 0.9331\n",
            "Epoch 5/40\n",
            "10/10 [==============================] - 0s 7ms/step - loss: 0.1687 - sparse_categorical_accuracy: 0.9563 - val_loss: 0.1595 - val_sparse_categorical_accuracy: 0.9499\n",
            "Epoch 6/40\n",
            "10/10 [==============================] - 0s 8ms/step - loss: 0.0164 - sparse_categorical_accuracy: 0.9960 - val_loss: 0.7157 - val_sparse_categorical_accuracy: 0.8412\n",
            "Epoch 7/40\n",
            "10/10 [==============================] - 0s 7ms/step - loss: 0.0967 - sparse_categorical_accuracy: 0.9809 - val_loss: 0.3771 - val_sparse_categorical_accuracy: 0.8886\n",
            "Epoch 8/40\n",
            "10/10 [==============================] - 0s 7ms/step - loss: 0.1066 - sparse_categorical_accuracy: 0.9682 - val_loss: 0.1181 - val_sparse_categorical_accuracy: 0.9638\n",
            "Epoch 9/40\n",
            "10/10 [==============================] - 0s 7ms/step - loss: 0.0036 - sparse_categorical_accuracy: 0.9992 - val_loss: 0.1106 - val_sparse_categorical_accuracy: 0.9666\n",
            "Epoch 10/40\n",
            "10/10 [==============================] - 0s 7ms/step - loss: 0.0012 - sparse_categorical_accuracy: 1.0000 - val_loss: 0.1080 - val_sparse_categorical_accuracy: 0.9666\n",
            "Epoch 11/40\n",
            "10/10 [==============================] - 0s 7ms/step - loss: 6.0589e-04 - sparse_categorical_accuracy: 1.0000 - val_loss: 0.1108 - val_sparse_categorical_accuracy: 0.9666\n",
            "Epoch 12/40\n",
            "10/10 [==============================] - 0s 8ms/step - loss: 3.5956e-04 - sparse_categorical_accuracy: 1.0000 - val_loss: 0.1343 - val_sparse_categorical_accuracy: 0.9666\n",
            "Epoch 13/40\n",
            "10/10 [==============================] - 0s 7ms/step - loss: 2.2598e-04 - sparse_categorical_accuracy: 1.0000 - val_loss: 0.1011 - val_sparse_categorical_accuracy: 0.9666\n",
            "Epoch 14/40\n",
            "10/10 [==============================] - 0s 8ms/step - loss: 1.0999e-04 - sparse_categorical_accuracy: 1.0000 - val_loss: 0.1017 - val_sparse_categorical_accuracy: 0.9694\n",
            "Epoch 15/40\n",
            "10/10 [==============================] - 0s 7ms/step - loss: 6.0010e-05 - sparse_categorical_accuracy: 1.0000 - val_loss: 0.1116 - val_sparse_categorical_accuracy: 0.9666\n",
            "Epoch 16/40\n",
            "10/10 [==============================] - 0s 7ms/step - loss: 0.5674 - sparse_categorical_accuracy: 0.9484 - val_loss: 0.8893 - val_sparse_categorical_accuracy: 0.8524\n",
            "Epoch 17/40\n",
            "10/10 [==============================] - 0s 7ms/step - loss: 0.0752 - sparse_categorical_accuracy: 0.9833 - val_loss: 0.0932 - val_sparse_categorical_accuracy: 0.9694\n",
            "Epoch 18/40\n",
            "10/10 [==============================] - 0s 7ms/step - loss: 8.2365e-04 - sparse_categorical_accuracy: 1.0000 - val_loss: 0.1034 - val_sparse_categorical_accuracy: 0.9694\n",
            "Epoch 19/40\n",
            "10/10 [==============================] - 0s 7ms/step - loss: 4.5250e-04 - sparse_categorical_accuracy: 1.0000 - val_loss: 0.0948 - val_sparse_categorical_accuracy: 0.9666\n",
            "Epoch 20/40\n",
            "10/10 [==============================] - 0s 7ms/step - loss: 2.9849e-04 - sparse_categorical_accuracy: 1.0000 - val_loss: 0.0969 - val_sparse_categorical_accuracy: 0.9666\n",
            "Epoch 21/40\n",
            "10/10 [==============================] - 0s 7ms/step - loss: 1.9966e-04 - sparse_categorical_accuracy: 1.0000 - val_loss: 0.0981 - val_sparse_categorical_accuracy: 0.9638\n",
            "Epoch 22/40\n",
            "10/10 [==============================] - 0s 7ms/step - loss: 1.3051e-04 - sparse_categorical_accuracy: 1.0000 - val_loss: 0.1104 - val_sparse_categorical_accuracy: 0.9610\n",
            "Epoch 23/40\n",
            "10/10 [==============================] - 0s 8ms/step - loss: 7.7861e-05 - sparse_categorical_accuracy: 1.0000 - val_loss: 0.1058 - val_sparse_categorical_accuracy: 0.9610\n",
            "Epoch 24/40\n",
            "10/10 [==============================] - 0s 7ms/step - loss: 4.4231e-05 - sparse_categorical_accuracy: 1.0000 - val_loss: 0.1061 - val_sparse_categorical_accuracy: 0.9638\n",
            "Epoch 25/40\n",
            "10/10 [==============================] - 0s 7ms/step - loss: 2.6183e-05 - sparse_categorical_accuracy: 1.0000 - val_loss: 0.1232 - val_sparse_categorical_accuracy: 0.9610\n",
            "Epoch 26/40\n",
            "10/10 [==============================] - 0s 7ms/step - loss: 1.9612e-05 - sparse_categorical_accuracy: 1.0000 - val_loss: 0.1136 - val_sparse_categorical_accuracy: 0.9694\n",
            "Epoch 27/40\n",
            "10/10 [==============================] - 0s 7ms/step - loss: 9.6435e-06 - sparse_categorical_accuracy: 1.0000 - val_loss: 0.1095 - val_sparse_categorical_accuracy: 0.9638\n",
            "Epoch 28/40\n",
            "10/10 [==============================] - 0s 7ms/step - loss: 5.7185e-06 - sparse_categorical_accuracy: 1.0000 - val_loss: 0.1313 - val_sparse_categorical_accuracy: 0.9582\n",
            "Epoch 29/40\n",
            "10/10 [==============================] - 0s 7ms/step - loss: 3.5670e-06 - sparse_categorical_accuracy: 1.0000 - val_loss: 0.1144 - val_sparse_categorical_accuracy: 0.9666\n",
            "Epoch 30/40\n",
            "10/10 [==============================] - 0s 7ms/step - loss: 2.0384e-06 - sparse_categorical_accuracy: 1.0000 - val_loss: 0.1064 - val_sparse_categorical_accuracy: 0.9694\n",
            "Epoch 31/40\n",
            "10/10 [==============================] - 0s 7ms/step - loss: 1.2945e-06 - sparse_categorical_accuracy: 1.0000 - val_loss: 0.1129 - val_sparse_categorical_accuracy: 0.9694\n",
            "Epoch 32/40\n",
            "10/10 [==============================] - 0s 7ms/step - loss: 8.1458e-07 - sparse_categorical_accuracy: 1.0000 - val_loss: 0.1211 - val_sparse_categorical_accuracy: 0.9666\n",
            "Epoch 33/40\n",
            "10/10 [==============================] - 0s 7ms/step - loss: 0.4877 - sparse_categorical_accuracy: 0.9595 - val_loss: 0.1532 - val_sparse_categorical_accuracy: 0.9554\n",
            "Epoch 34/40\n",
            "10/10 [==============================] - 0s 7ms/step - loss: 9.7577e-05 - sparse_categorical_accuracy: 1.0000 - val_loss: 0.1533 - val_sparse_categorical_accuracy: 0.9554\n",
            "Epoch 35/40\n",
            "10/10 [==============================] - 0s 7ms/step - loss: 6.6711e-05 - sparse_categorical_accuracy: 1.0000 - val_loss: 0.1576 - val_sparse_categorical_accuracy: 0.9526\n",
            "Epoch 36/40\n",
            "10/10 [==============================] - 0s 7ms/step - loss: 3.5731e-05 - sparse_categorical_accuracy: 1.0000 - val_loss: 0.1709 - val_sparse_categorical_accuracy: 0.9554\n",
            "Epoch 37/40\n",
            "10/10 [==============================] - 0s 9ms/step - loss: 2.1982e-05 - sparse_categorical_accuracy: 1.0000 - val_loss: 0.1789 - val_sparse_categorical_accuracy: 0.9499\n",
            "Epoch 38/40\n",
            "10/10 [==============================] - 0s 7ms/step - loss: 1.5738e-05 - sparse_categorical_accuracy: 1.0000 - val_loss: 0.1885 - val_sparse_categorical_accuracy: 0.9526\n",
            "Epoch 39/40\n",
            "10/10 [==============================] - 0s 8ms/step - loss: 1.1970e-05 - sparse_categorical_accuracy: 1.0000 - val_loss: 0.1883 - val_sparse_categorical_accuracy: 0.9499\n",
            "Epoch 40/40\n",
            "10/10 [==============================] - 0s 7ms/step - loss: 8.8733e-06 - sparse_categorical_accuracy: 1.0000 - val_loss: 0.1957 - val_sparse_categorical_accuracy: 0.9499\n"
          ],
          "name": "stdout"
        }
      ]
    },
    {
      "cell_type": "markdown",
      "metadata": {
        "id": "FsqT4LmELbUV"
      },
      "source": [
        "## Time to make predictions!\n",
        "\n",
        "Remember the **testing** dataset we made earlier? Let's take a look at it and see what the shape and size is."
      ]
    },
    {
      "cell_type": "code",
      "metadata": {
        "colab": {
          "base_uri": "https://localhost:8080/"
        },
        "id": "jChP2qpVLi4Q",
        "outputId": "211817fd-ca6c-4b81-c3c3-92893bfb9ac1"
      },
      "source": [
        "print('x_test shape:', x_test.shape)\n",
        "print('y_test shape:', y_test.shape)\n",
        "\n",
        "print('\\nx_test size:', len(x_test))\n",
        "print('y_test size:', len(y_test))"
      ],
      "execution_count": null,
      "outputs": [
        {
          "output_type": "stream",
          "text": [
            "x_test shape: (179, 64)\n",
            "y_test shape: (179,)\n",
            "\n",
            "x_test size: 179\n",
            "y_test size: 179\n"
          ],
          "name": "stdout"
        }
      ]
    },
    {
      "cell_type": "code",
      "metadata": {
        "id": "FvS5atyZNYBe"
      },
      "source": [
        "pred_num = 179"
      ],
      "execution_count": null,
      "outputs": []
    },
    {
      "cell_type": "markdown",
      "metadata": {
        "id": "I6_6ATN8l3HH"
      },
      "source": [
        "### Making images dataset the same size as x_test"
      ]
    },
    {
      "cell_type": "code",
      "metadata": {
        "id": "-esaoR9wl9Nx"
      },
      "source": [
        "import time as time\n",
        "\n",
        "img = digits.images\n",
        "\n",
        "img = img[:test_size]"
      ],
      "execution_count": null,
      "outputs": []
    },
    {
      "cell_type": "markdown",
      "metadata": {
        "id": "9wcyBP0JmKg_"
      },
      "source": [
        "### Making our predictions and visualizing"
      ]
    },
    {
      "cell_type": "code",
      "metadata": {
        "colab": {
          "base_uri": "https://localhost:8080/",
          "height": 1000
        },
        "id": "J0Gm5GdPMD0y",
        "outputId": "0aef0daa-16ca-4c31-b548-0677dee5eff6"
      },
      "source": [
        "# Make predictions\n",
        "print('Generating predictions...')\n",
        "predictions = model.predict(x_test[:pred_num])\n",
        "\n",
        "# Print all our predictions\n",
        "wrong = 0\n",
        "print('Predictions...')\n",
        "\n",
        "for i in range(0, len(predictions)):\n",
        "\n",
        "    left = int(y_test[i])\n",
        "    right = predictions[i].tolist().index(max(predictions[i]))\n",
        "\n",
        "    msg = '{}. True value: {}, prediction: {}'.format(i, left, right, end='')\n",
        "\n",
        "    if left != right:\n",
        "\n",
        "        plt.imshow(img[i], cmap='gray')\n",
        "        plt.show()\n",
        "\n",
        "        print(msg + ' -- WRONG\\n\\n')\n",
        "        wrong += 1\n",
        "\n",
        "print('Performance: {}/{}, {}'.format(pred_num - wrong, pred_num, (pred_num - wrong)/pred_num))\n"
      ],
      "execution_count": null,
      "outputs": [
        {
          "output_type": "stream",
          "text": [
            "Generating predictions...\n",
            "Predictions...\n"
          ],
          "name": "stdout"
        },
        {
          "output_type": "display_data",
          "data": {
            "image/png": "[encoded data removed]",
            "text/plain": [
              "<Figure size 432x288 with 1 Axes>"
            ]
          },
          "metadata": {
            "tags": [],
            "needs_background": "light"
          }
        },
        {
          "output_type": "stream",
          "text": [
            "2. True value: 2, prediction: 8 -- WRONG\n",
            "\n",
            "\n"
          ],
          "name": "stdout"
        },
        {
          "output_type": "display_data",
          "data": {
            "image/png": "[encoded data removed]",
            "text/plain": [
              "<Figure size 432x288 with 1 Axes>"
            ]
          },
          "metadata": {
            "tags": [],
            "needs_background": "light"
          }
        },
        {
          "output_type": "stream",
          "text": [
            "5. True value: 5, prediction: 9 -- WRONG\n",
            "\n",
            "\n"
          ],
          "name": "stdout"
        },
        {
          "output_type": "display_data",
          "data": {
            "image/png": "[encoded data removed]",
            "text/plain": [
              "<Figure size 432x288 with 1 Axes>"
            ]
          },
          "metadata": {
            "tags": [],
            "needs_background": "light"
          }
        },
        {
          "output_type": "stream",
          "text": [
            "46. True value: 5, prediction: 4 -- WRONG\n",
            "\n",
            "\n"
          ],
          "name": "stdout"
        },
        {
          "output_type": "display_data",
          "data": {
            "image/png": "[encoded data removed]",
            "text/plain": [
              "<Figure size 432x288 with 1 Axes>"
            ]
          },
          "metadata": {
            "tags": [],
            "needs_background": "light"
          }
        },
        {
          "output_type": "stream",
          "text": [
            "50. True value: 2, prediction: 8 -- WRONG\n",
            "\n",
            "\n"
          ],
          "name": "stdout"
        },
        {
          "output_type": "display_data",
          "data": {
            "image/png": "[encoded data removed]",
            "text/plain": [
              "<Figure size 432x288 with 1 Axes>"
            ]
          },
          "metadata": {
            "tags": [],
            "needs_background": "light"
          }
        },
        {
          "output_type": "stream",
          "text": [
            "54. True value: 2, prediction: 8 -- WRONG\n",
            "\n",
            "\n"
          ],
          "name": "stdout"
        },
        {
          "output_type": "display_data",
          "data": {
            "image/png": "[encoded data removed]",
            "text/plain": [
              "<Figure size 432x288 with 1 Axes>"
            ]
          },
          "metadata": {
            "tags": [],
            "needs_background": "light"
          }
        },
        {
          "output_type": "stream",
          "text": [
            "57. True value: 2, prediction: 8 -- WRONG\n",
            "\n",
            "\n"
          ],
          "name": "stdout"
        },
        {
          "output_type": "display_data",
          "data": {
            "image/png": "[encoded data removed]",
            "text/plain": [
              "<Figure size 432x288 with 1 Axes>"
            ]
          },
          "metadata": {
            "tags": [],
            "needs_background": "light"
          }
        },
        {
          "output_type": "stream",
          "text": [
            "69. True value: 9, prediction: 8 -- WRONG\n",
            "\n",
            "\n"
          ],
          "name": "stdout"
        },
        {
          "output_type": "display_data",
          "data": {
            "image/png": "[encoded data removed]",
            "text/plain": [
              "<Figure size 432x288 with 1 Axes>"
            ]
          },
          "metadata": {
            "tags": [],
            "needs_background": "light"
          }
        },
        {
          "output_type": "stream",
          "text": [
            "77. True value: 2, prediction: 1 -- WRONG\n",
            "\n",
            "\n"
          ],
          "name": "stdout"
        },
        {
          "output_type": "display_data",
          "data": {
            "image/png": "[encoded data removed]",
            "text/plain": [
              "<Figure size 432x288 with 1 Axes>"
            ]
          },
          "metadata": {
            "tags": [],
            "needs_background": "light"
          }
        },
        {
          "output_type": "stream",
          "text": [
            "95. True value: 6, prediction: 1 -- WRONG\n",
            "\n",
            "\n"
          ],
          "name": "stdout"
        },
        {
          "output_type": "display_data",
          "data": {
            "image/png": "[encoded data removed]",
            "text/plain": [
              "<Figure size 432x288 with 1 Axes>"
            ]
          },
          "metadata": {
            "tags": [],
            "needs_background": "light"
          }
        },
        {
          "output_type": "stream",
          "text": [
            "115. True value: 2, prediction: 8 -- WRONG\n",
            "\n",
            "\n"
          ],
          "name": "stdout"
        },
        {
          "output_type": "display_data",
          "data": {
            "image/png": "[encoded data removed]",
            "text/plain": [
              "<Figure size 432x288 with 1 Axes>"
            ]
          },
          "metadata": {
            "tags": [],
            "needs_background": "light"
          }
        },
        {
          "output_type": "stream",
          "text": [
            "120. True value: 5, prediction: 9 -- WRONG\n",
            "\n",
            "\n"
          ],
          "name": "stdout"
        },
        {
          "output_type": "display_data",
          "data": {
            "image/png": "[encoded data removed]",
            "text/plain": [
              "<Figure size 432x288 with 1 Axes>"
            ]
          },
          "metadata": {
            "tags": [],
            "needs_background": "light"
          }
        },
        {
          "output_type": "stream",
          "text": [
            "129. True value: 8, prediction: 1 -- WRONG\n",
            "\n",
            "\n"
          ],
          "name": "stdout"
        },
        {
          "output_type": "display_data",
          "data": {
            "image/png": "[encoded data removed]",
            "text/plain": [
              "<Figure size 432x288 with 1 Axes>"
            ]
          },
          "metadata": {
            "tags": [],
            "needs_background": "light"
          }
        },
        {
          "output_type": "stream",
          "text": [
            "171. True value: 4, prediction: 1 -- WRONG\n",
            "\n",
            "\n",
            "Performance: 166/179, 0.9273743016759777\n"
          ],
          "name": "stdout"
        }
      ]
    },
    {
      "cell_type": "markdown",
      "metadata": {
        "id": "GG_cPJ51B423"
      },
      "source": [
        "# Challenge - Making your own digit and testing it against our model!!\n",
        "\n",
        "This time you will be making the image, and using that image we will test the effectiveness of the neural network we've created.\n"
      ]
    },
    {
      "cell_type": "code",
      "metadata": {
        "colab": {
          "base_uri": "https://localhost:8080/",
          "height": 299
        },
        "id": "OZzL9quHCS9x",
        "outputId": "ac693ab7-629d-4c09-8c39-7e1976e1124b"
      },
      "source": [
        "from PIL import Image\n",
        "\n",
        "path = '/content/drive/MyDrive/student resources/Challenge(Machine Learning Digits)/Student images/8Cody.png'\n",
        "image = Image.open(path)\n",
        "\n",
        "image = image.resize((8, 8))\n",
        "\n",
        "nimg = np.array(image)\n",
        "\n",
        "print(nimg.shape)\n",
        "nimg = nimg[:,:,0]\n",
        "# print(np.sum(nimg[:,:,3]))\n",
        "\n",
        "plt.imshow(nimg, cmap='gray')\n",
        "plt.show()\n",
        "\n",
        "nimg = nimg.reshape(1, 64)\n",
        "\n",
        "prediction = model.predict(nimg)\n",
        "print('Prediction: {}'.format(prediction[0].tolist().index(max(prediction[0]))))"
      ],
      "execution_count": null,
      "outputs": [
        {
          "output_type": "stream",
          "text": [
            "(8, 8, 3)\n"
          ],
          "name": "stdout"
        },
        {
          "output_type": "display_data",
          "data": {
            "image/png": "[encoded data removed]",
            "text/plain": [
              "<Figure size 432x288 with 1 Axes>"
            ]
          },
          "metadata": {
            "tags": [],
            "needs_background": "light"
          }
        },
        {
          "output_type": "stream",
          "text": [
            "Prediction: 7\n"
          ],
          "name": "stdout"
        }
      ]
    }
  ]
}